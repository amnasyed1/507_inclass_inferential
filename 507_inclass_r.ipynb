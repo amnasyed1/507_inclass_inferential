{
  "nbformat": 4,
  "nbformat_minor": 0,
  "metadata": {
    "colab": {
      "provenance": [],
      "authorship_tag": "ABX9TyNTuNgysHaWbUWc1r/bC0rM",
      "include_colab_link": true
    },
    "kernelspec": {
      "name": "ir",
      "display_name": "R"
    },
    "language_info": {
      "name": "R"
    }
  },
  "cells": [
    {
      "cell_type": "markdown",
      "metadata": {
        "id": "view-in-github",
        "colab_type": "text"
      },
      "source": [
        "<a href=\"https://colab.research.google.com/github/amnasyed1/507_inclass_inferential/blob/main/507_inclass_r.ipynb\" target=\"_parent\"><img src=\"https://colab.research.google.com/assets/colab-badge.svg\" alt=\"Open In Colab\"/></a>"
      ]
    },
    {
      "cell_type": "code",
      "execution_count": 14,
      "metadata": {
        "id": "PQltAO9lBgsu"
      },
      "outputs": [],
      "source": [
        "df <- read.csv('cms_orders.csv')\n"
      ]
    },
    {
      "cell_type": "code",
      "source": [
        "contingency = table(df$PARTB, df$HHA)\n",
        "contingency"
      ],
      "metadata": {
        "colab": {
          "base_uri": "https://localhost:8080/",
          "height": 106
        },
        "id": "5RTdPzOkCxgu",
        "outputId": "1192911a-8a94-440e-b670-1202ddcf5321"
      },
      "execution_count": 15,
      "outputs": [
        {
          "output_type": "display_data",
          "data": {
            "text/plain": [
              "   \n",
              "                  N       Y\n",
              "          1       0       0\n",
              "  N       0   47233     158\n",
              "  Y       0  127086 1363612"
            ]
          },
          "metadata": {}
        }
      ]
    },
    {
      "cell_type": "code",
      "source": [
        "chisq.test(contingency)"
      ],
      "metadata": {
        "colab": {
          "base_uri": "https://localhost:8080/",
          "height": 142
        },
        "id": "nq-5fFu5Di1l",
        "outputId": "de04edf4-d8e8-4a5e-8c7c-3327ad496b70"
      },
      "execution_count": 16,
      "outputs": [
        {
          "output_type": "stream",
          "name": "stderr",
          "text": [
            "Warning message in chisq.test(contingency):\n",
            "“Chi-squared approximation may be incorrect”\n"
          ]
        },
        {
          "output_type": "display_data",
          "data": {
            "text/plain": [
              "\n",
              "\tPearson's Chi-squared test\n",
              "\n",
              "data:  contingency\n",
              "X-squared = 1917765, df = 4, p-value < 2.2e-16\n"
            ]
          },
          "metadata": {}
        }
      ]
    },
    {
      "cell_type": "markdown",
      "source": [
        "# **T-Test**"
      ],
      "metadata": {
        "id": "DY6j3jhqPWt2"
      }
    },
    {
      "cell_type": "code",
      "source": [
        "data_cms = read.csv('https://raw.githubusercontent.com/hantswilliams/HHA_507_2023/main/WK5/examples/data/cms-chronic-conditions/CC_R20_P08_v10_D18_WWDSE_Cond_complete.csv')\n",
        "data_cms"
      ],
      "metadata": {
        "colab": {
          "base_uri": "https://localhost:8080/",
          "height": 1000
        },
        "id": "Z71ubmvKOZU0",
        "outputId": "371dce7f-9255-411d-fab4-12fcd36b1b87"
      },
      "execution_count": 18,
      "outputs": [
        {
          "output_type": "display_data",
          "data": {
            "text/html": [
              "<table class=\"dataframe\">\n",
              "<caption>A data.frame: 1051 × 13</caption>\n",
              "<thead>\n",
              "\t<tr><th scope=col>Bene_Geo_Lvl</th><th scope=col>Bene_Geo_Desc</th><th scope=col>Bene_Geo_Cd</th><th scope=col>Bene_Age_Lvl</th><th scope=col>Bene_Demo_Lvl</th><th scope=col>Bene_Demo_Desc</th><th scope=col>Bene_Cond</th><th scope=col>Prvlnc</th><th scope=col>Tot_Mdcr_Stdzd_Pymt_PC</th><th scope=col>Tot_Mdcr_Pymt_PC</th><th scope=col>Hosp_Readmsn_Rate</th><th scope=col>ER_Visits_Per_1000_Benes</th><th scope=col>is_southern</th></tr>\n",
              "\t<tr><th scope=col>&lt;chr&gt;</th><th scope=col>&lt;chr&gt;</th><th scope=col>&lt;dbl&gt;</th><th scope=col>&lt;chr&gt;</th><th scope=col>&lt;chr&gt;</th><th scope=col>&lt;chr&gt;</th><th scope=col>&lt;chr&gt;</th><th scope=col>&lt;dbl&gt;</th><th scope=col>&lt;dbl&gt;</th><th scope=col>&lt;dbl&gt;</th><th scope=col>&lt;dbl&gt;</th><th scope=col>&lt;dbl&gt;</th><th scope=col>&lt;chr&gt;</th></tr>\n",
              "</thead>\n",
              "<tbody>\n",
              "\t<tr><td>State</td><td>Alabama</td><td>1</td><td>All</td><td>All</td><td>All</td><td>Alcohol Abuse                              </td><td>0.0188</td><td>25102.340</td><td>23348.604</td><td>0.2413</td><td>2184.7557</td><td>southern    </td></tr>\n",
              "\t<tr><td>State</td><td>Alabama</td><td>1</td><td>All</td><td>All</td><td>All</td><td>Alzheimer's Disease/Dementia               </td><td>0.1140</td><td>25051.881</td><td>22554.058</td><td>0.2119</td><td>1410.8355</td><td>southern    </td></tr>\n",
              "\t<tr><td>State</td><td>Alabama</td><td>1</td><td>All</td><td>All</td><td>All</td><td>Arthritis                                  </td><td>0.3897</td><td>15827.493</td><td>14403.578</td><td>0.1775</td><td> 998.3314</td><td>southern    </td></tr>\n",
              "\t<tr><td>State</td><td>Alabama</td><td>1</td><td>All</td><td>All</td><td>All</td><td>Asthma                                     </td><td>0.0499</td><td>20560.695</td><td>18914.583</td><td>0.2117</td><td>1614.4483</td><td>southern    </td></tr>\n",
              "\t<tr><td>State</td><td>Alabama</td><td>1</td><td>All</td><td>All</td><td>All</td><td>Atrial Fibrillation                        </td><td>0.0793</td><td>25450.459</td><td>23414.338</td><td>0.2268</td><td>1450.9822</td><td>southern    </td></tr>\n",
              "\t<tr><td>State</td><td>Alabama</td><td>1</td><td>All</td><td>All</td><td>All</td><td>Autism Spectrum Disorders                  </td><td>0.0017</td><td> 7389.224</td><td> 6834.349</td><td>0.1681</td><td> 941.7373</td><td>southern    </td></tr>\n",
              "\t<tr><td>State</td><td>Alabama</td><td>1</td><td>All</td><td>All</td><td>All</td><td>COPD                                       </td><td>0.1375</td><td>24579.417</td><td>22509.959</td><td>0.2237</td><td>1622.4625</td><td>southern    </td></tr>\n",
              "\t<tr><td>State</td><td>Alabama</td><td>1</td><td>All</td><td>All</td><td>All</td><td>Cancer                                     </td><td>0.0806</td><td>21378.183</td><td>19647.875</td><td>0.1965</td><td>1000.8886</td><td>southern    </td></tr>\n",
              "\t<tr><td>State</td><td>Alabama</td><td>1</td><td>All</td><td>All</td><td>All</td><td>Chronic Kidney Disease                     </td><td>0.2740</td><td>22013.235</td><td>20194.387</td><td>0.2172</td><td>1305.4389</td><td>southern    </td></tr>\n",
              "\t<tr><td>State</td><td>Alabama</td><td>1</td><td>All</td><td>All</td><td>All</td><td>Depression                                 </td><td>0.1838</td><td>20298.705</td><td>18488.541</td><td>0.2069</td><td>1423.5163</td><td>southern    </td></tr>\n",
              "\t<tr><td>State</td><td>Alabama</td><td>1</td><td>All</td><td>All</td><td>All</td><td>Diabetes                                   </td><td>0.3017</td><td>16286.629</td><td>14858.612</td><td>0.2054</td><td>1021.1721</td><td>southern    </td></tr>\n",
              "\t<tr><td>State</td><td>Alabama</td><td>1</td><td>All</td><td>All</td><td>All</td><td>Drug/Substance Abuse                       </td><td>0.0430</td><td>22482.487</td><td>20827.145</td><td>0.2541</td><td>2292.9655</td><td>southern    </td></tr>\n",
              "\t<tr><td>State</td><td>Alabama</td><td>1</td><td>All</td><td>All</td><td>All</td><td>HIV/AIDS                                   </td><td>0.0033</td><td>18165.449</td><td>17360.686</td><td>0.2638</td><td>1500.0000</td><td>southern    </td></tr>\n",
              "\t<tr><td>State</td><td>Alabama</td><td>1</td><td>All</td><td>All</td><td>All</td><td>Heart Failure                              </td><td>0.1609</td><td>27576.543</td><td>25290.666</td><td>0.2346</td><td>1642.5684</td><td>southern    </td></tr>\n",
              "\t<tr><td>State</td><td>Alabama</td><td>1</td><td>All</td><td>All</td><td>All</td><td><span style=white-space:pre-wrap>Hepatitis (Chronic Viral B &amp; C)            </span></td><td>0.0061</td><td>27041.694</td><td>25730.517</td><td>0.2912</td><td>2088.5478</td><td><span style=white-space:pre-wrap>southern    </span></td></tr>\n",
              "\t<tr><td>State</td><td>Alabama</td><td>1</td><td>All</td><td>All</td><td>All</td><td>Hyperlipidemia                             </td><td>0.5126</td><td>13967.377</td><td>12773.135</td><td>0.1810</td><td> 860.1103</td><td>southern    </td></tr>\n",
              "\t<tr><td>State</td><td>Alabama</td><td>1</td><td>All</td><td>All</td><td>All</td><td>Hypertension                               </td><td>0.6553</td><td>14203.233</td><td>12977.230</td><td>0.1808</td><td> 918.2997</td><td>southern    </td></tr>\n",
              "\t<tr><td>State</td><td>Alabama</td><td>1</td><td>All</td><td>All</td><td>All</td><td>Ischemic Heart Disease                     </td><td>0.2977</td><td>19260.669</td><td>17636.401</td><td>0.2057</td><td>1181.5682</td><td>southern    </td></tr>\n",
              "\t<tr><td>State</td><td>Alabama</td><td>1</td><td>All</td><td>All</td><td>All</td><td>Osteoporosis                               </td><td>0.0612</td><td>17964.778</td><td>16361.125</td><td>0.1722</td><td> 967.3446</td><td>southern    </td></tr>\n",
              "\t<tr><td>State</td><td>Alabama</td><td>1</td><td>All</td><td>All</td><td>All</td><td>Schizophrenia and Other Psychotic Disorders</td><td>0.0314</td><td>21838.707</td><td>19732.556</td><td>0.2333</td><td>1884.0861</td><td>southern    </td></tr>\n",
              "\t<tr><td>State</td><td>Alabama</td><td>1</td><td>All</td><td>All</td><td>All</td><td>Stroke                                     </td><td>0.0421</td><td>31273.815</td><td>28654.398</td><td>0.2125</td><td>1893.7149</td><td>southern    </td></tr>\n",
              "\t<tr><td>State</td><td>Alaska </td><td>2</td><td>All</td><td>All</td><td>All</td><td>Alcohol Abuse                              </td><td>0.0307</td><td>19015.031</td><td>27744.345</td><td>0.2065</td><td>2018.4403</td><td>non-southern</td></tr>\n",
              "\t<tr><td>State</td><td>Alaska </td><td>2</td><td>All</td><td>All</td><td>All</td><td>Alzheimer's Disease/Dementia               </td><td>0.0810</td><td>17488.889</td><td>24696.943</td><td>0.1934</td><td>1477.5837</td><td>non-southern</td></tr>\n",
              "\t<tr><td>State</td><td>Alaska </td><td>2</td><td>All</td><td>All</td><td>All</td><td>Arthritis                                  </td><td>0.2509</td><td>13042.499</td><td>17562.917</td><td>0.1499</td><td> 942.7967</td><td>non-southern</td></tr>\n",
              "\t<tr><td>State</td><td>Alaska </td><td>2</td><td>All</td><td>All</td><td>All</td><td>Asthma                                     </td><td>0.0346</td><td>19139.329</td><td>26181.236</td><td>0.1972</td><td>1793.3856</td><td>non-southern</td></tr>\n",
              "\t<tr><td>State</td><td>Alaska </td><td>2</td><td>All</td><td>All</td><td>All</td><td>Atrial Fibrillation                        </td><td>0.0608</td><td>20286.367</td><td>27779.094</td><td>0.1970</td><td>1492.1466</td><td>non-southern</td></tr>\n",
              "\t<tr><td>State</td><td>Alaska </td><td>2</td><td>All</td><td>All</td><td>All</td><td>COPD                                       </td><td>0.0823</td><td>21806.048</td><td>31218.592</td><td>0.1985</td><td>1752.3659</td><td>non-southern</td></tr>\n",
              "\t<tr><td>State</td><td>Alaska </td><td>2</td><td>All</td><td>All</td><td>All</td><td>Cancer                                     </td><td>0.0636</td><td>17692.676</td><td>23181.676</td><td>0.1732</td><td> 944.9490</td><td>non-southern</td></tr>\n",
              "\t<tr><td>State</td><td>Alaska </td><td>2</td><td>All</td><td>All</td><td>All</td><td>Chronic Kidney Disease                     </td><td>0.1763</td><td>19898.509</td><td>27282.516</td><td>0.1952</td><td>1370.3084</td><td>non-southern</td></tr>\n",
              "\t<tr><td>State</td><td>Alaska </td><td>2</td><td>All</td><td>All</td><td>All</td><td>Depression                                 </td><td>0.1173</td><td>17263.351</td><td>23446.430</td><td>0.1969</td><td>1536.4039</td><td>non-southern</td></tr>\n",
              "\t<tr><td>⋮</td><td>⋮</td><td>⋮</td><td>⋮</td><td>⋮</td><td>⋮</td><td>⋮</td><td>⋮</td><td>⋮</td><td>⋮</td><td>⋮</td><td>⋮</td><td>⋮</td></tr>\n",
              "\t<tr><td>State</td><td>Wisconsin</td><td>55</td><td>All</td><td>All</td><td>All</td><td>Diabetes                                   </td><td>0.2284</td><td>14246.49</td><td>14885.05</td><td>0.2020</td><td>1029.1171</td><td>non-southern</td></tr>\n",
              "\t<tr><td>State</td><td>Wisconsin</td><td>55</td><td>All</td><td>All</td><td>All</td><td>Drug/Substance Abuse                       </td><td>0.0267</td><td>22033.47</td><td>23333.22</td><td>0.2660</td><td>2637.7526</td><td>non-southern</td></tr>\n",
              "\t<tr><td>State</td><td>Wisconsin</td><td>55</td><td>All</td><td>All</td><td>All</td><td>HIV/AIDS                                   </td><td>0.0014</td><td>17452.72</td><td>18728.88</td><td>0.2885</td><td>1563.8665</td><td>non-southern</td></tr>\n",
              "\t<tr><td>State</td><td>Wisconsin</td><td>55</td><td>All</td><td>All</td><td>All</td><td>Heart Failure                              </td><td>0.1269</td><td>25012.57</td><td>26605.00</td><td>0.2244</td><td>1685.2420</td><td>non-southern</td></tr>\n",
              "\t<tr><td>State</td><td>Wisconsin</td><td>55</td><td>All</td><td>All</td><td>All</td><td><span style=white-space:pre-wrap>Hepatitis (Chronic Viral B &amp; C)            </span></td><td>0.0044</td><td>23348.30</td><td>25052.06</td><td>0.2987</td><td>2062.7584</td><td>non-southern</td></tr>\n",
              "\t<tr><td>State</td><td>Wisconsin</td><td>55</td><td>All</td><td>All</td><td>All</td><td>Hyperlipidemia                             </td><td>0.4178</td><td>13149.19</td><td>13743.57</td><td>0.1739</td><td> 940.1264</td><td>non-southern</td></tr>\n",
              "\t<tr><td>State</td><td>Wisconsin</td><td>55</td><td>All</td><td>All</td><td>All</td><td>Hypertension                               </td><td>0.4985</td><td>13479.83</td><td>14087.98</td><td>0.1754</td><td> 985.4504</td><td>non-southern</td></tr>\n",
              "\t<tr><td>State</td><td>Wisconsin</td><td>55</td><td>All</td><td>All</td><td>All</td><td>Ischemic Heart Disease                     </td><td>0.2298</td><td>17622.79</td><td>18584.63</td><td>0.2001</td><td>1233.1795</td><td>non-southern</td></tr>\n",
              "\t<tr><td>State</td><td>Wisconsin</td><td>55</td><td>All</td><td>All</td><td>All</td><td>Osteoporosis                               </td><td>0.0559</td><td>18710.97</td><td>19669.34</td><td>0.1843</td><td>1288.3439</td><td>non-southern</td></tr>\n",
              "\t<tr><td>State</td><td>Wisconsin</td><td>55</td><td>All</td><td>All</td><td>All</td><td>Schizophrenia and Other Psychotic Disorders</td><td>0.0262</td><td>14270.43</td><td>15054.54</td><td>0.2229</td><td>1884.7434</td><td>non-southern</td></tr>\n",
              "\t<tr><td>State</td><td>Wisconsin</td><td>55</td><td>All</td><td>All</td><td>All</td><td>Stroke                                     </td><td>0.0265</td><td>29223.21</td><td>30972.52</td><td>0.2027</td><td>2017.7167</td><td>non-southern</td></tr>\n",
              "\t<tr><td>State</td><td>Wyoming  </td><td>56</td><td>All</td><td>All</td><td>All</td><td>Alcohol Abuse                              </td><td>0.0177</td><td>20685.47</td><td>24518.63</td><td>0.1973</td><td>2215.1231</td><td>non-southern</td></tr>\n",
              "\t<tr><td>State</td><td>Wyoming  </td><td>56</td><td>All</td><td>All</td><td>All</td><td>Alzheimer's Disease/Dementia               </td><td>0.0770</td><td>18790.73</td><td>21637.21</td><td>0.1736</td><td>1445.8693</td><td>non-southern</td></tr>\n",
              "\t<tr><td>State</td><td>Wyoming  </td><td>56</td><td>All</td><td>All</td><td>All</td><td>Arthritis                                  </td><td>0.2645</td><td>14502.71</td><td>16308.93</td><td>0.1394</td><td> 951.6694</td><td>non-southern</td></tr>\n",
              "\t<tr><td>State</td><td>Wyoming  </td><td>56</td><td>All</td><td>All</td><td>All</td><td>Asthma                                     </td><td>0.0308</td><td>19559.40</td><td>22345.53</td><td>0.1735</td><td>1633.4796</td><td>non-southern</td></tr>\n",
              "\t<tr><td>State</td><td>Wyoming  </td><td>56</td><td>All</td><td>All</td><td>All</td><td>Atrial Fibrillation                        </td><td>0.0650</td><td>21894.27</td><td>25336.30</td><td>0.1961</td><td>1472.4132</td><td>non-southern</td></tr>\n",
              "\t<tr><td>State</td><td>Wyoming  </td><td>56</td><td>All</td><td>All</td><td>All</td><td>COPD                                       </td><td>0.1053</td><td>21580.48</td><td>25199.92</td><td>0.1882</td><td>1700.5828</td><td>non-southern</td></tr>\n",
              "\t<tr><td>State</td><td>Wyoming  </td><td>56</td><td>All</td><td>All</td><td>All</td><td>Cancer                                     </td><td>0.0657</td><td>19992.18</td><td>22436.01</td><td>0.1668</td><td> 995.4114</td><td>non-southern</td></tr>\n",
              "\t<tr><td>State</td><td>Wyoming  </td><td>56</td><td>All</td><td>All</td><td>All</td><td>Chronic Kidney Disease                     </td><td>0.1562</td><td>21809.32</td><td>25095.76</td><td>0.1957</td><td>1480.9511</td><td>non-southern</td></tr>\n",
              "\t<tr><td>State</td><td>Wyoming  </td><td>56</td><td>All</td><td>All</td><td>All</td><td>Depression                                 </td><td>0.1496</td><td>18160.82</td><td>20551.48</td><td>0.1799</td><td>1426.3162</td><td>non-southern</td></tr>\n",
              "\t<tr><td>State</td><td>Wyoming  </td><td>56</td><td>All</td><td>All</td><td>All</td><td>Diabetes                                   </td><td>0.1986</td><td>13430.02</td><td>15203.86</td><td>0.1745</td><td> 952.2263</td><td>non-southern</td></tr>\n",
              "\t<tr><td>State</td><td>Wyoming  </td><td>56</td><td>All</td><td>All</td><td>All</td><td>Drug/Substance Abuse                       </td><td>0.0218</td><td>23647.06</td><td>27170.60</td><td>0.2070</td><td>2501.9102</td><td>non-southern</td></tr>\n",
              "\t<tr><td>State</td><td>Wyoming  </td><td>56</td><td>All</td><td>All</td><td>All</td><td>Heart Failure                              </td><td>0.1090</td><td>23719.83</td><td>27618.76</td><td>0.2077</td><td>1657.1892</td><td>non-southern</td></tr>\n",
              "\t<tr><td>State</td><td><span style=white-space:pre-wrap>Wyoming  </span></td><td>56</td><td>All</td><td>All</td><td>All</td><td><span style=white-space:pre-wrap>Hepatitis (Chronic Viral B &amp; C)            </span></td><td>0.0041</td><td>17398.35</td><td>20446.04</td><td>0.2113</td><td>2055.2764</td><td>non-southern</td></tr>\n",
              "\t<tr><td>State</td><td>Wyoming  </td><td>56</td><td>All</td><td>All</td><td>All</td><td>Hyperlipidemia                             </td><td>0.2448</td><td>15455.42</td><td>17662.75</td><td>0.1652</td><td>1021.4547</td><td>non-southern</td></tr>\n",
              "\t<tr><td>State</td><td>Wyoming  </td><td>56</td><td>All</td><td>All</td><td>All</td><td>Hypertension                               </td><td>0.4038</td><td>14596.53</td><td>16604.15</td><td>0.1563</td><td>1032.4567</td><td>non-southern</td></tr>\n",
              "\t<tr><td>State</td><td>Wyoming  </td><td>56</td><td>All</td><td>All</td><td>All</td><td>Ischemic Heart Disease                     </td><td>0.2010</td><td>17492.86</td><td>20113.11</td><td>0.1772</td><td>1248.6805</td><td>non-southern</td></tr>\n",
              "\t<tr><td>State</td><td>Wyoming  </td><td>56</td><td>All</td><td>All</td><td>All</td><td>Osteoporosis                               </td><td>0.0480</td><td>19099.81</td><td>21672.17</td><td>0.1684</td><td>1137.0338</td><td>non-southern</td></tr>\n",
              "\t<tr><td>State</td><td>Wyoming  </td><td>56</td><td>All</td><td>All</td><td>All</td><td>Schizophrenia and Other Psychotic Disorders</td><td>0.0154</td><td>16458.95</td><td>18485.60</td><td>0.2006</td><td>2171.5057</td><td>non-southern</td></tr>\n",
              "\t<tr><td>State</td><td>Wyoming  </td><td>56</td><td>All</td><td>All</td><td>All</td><td>Stroke                                     </td><td>0.0210</td><td>31635.65</td><td>35836.67</td><td>0.1921</td><td>2129.5747</td><td>non-southern</td></tr>\n",
              "</tbody>\n",
              "</table>\n"
            ],
            "text/markdown": "\nA data.frame: 1051 × 13\n\n| Bene_Geo_Lvl &lt;chr&gt; | Bene_Geo_Desc &lt;chr&gt; | Bene_Geo_Cd &lt;dbl&gt; | Bene_Age_Lvl &lt;chr&gt; | Bene_Demo_Lvl &lt;chr&gt; | Bene_Demo_Desc &lt;chr&gt; | Bene_Cond &lt;chr&gt; | Prvlnc &lt;dbl&gt; | Tot_Mdcr_Stdzd_Pymt_PC &lt;dbl&gt; | Tot_Mdcr_Pymt_PC &lt;dbl&gt; | Hosp_Readmsn_Rate &lt;dbl&gt; | ER_Visits_Per_1000_Benes &lt;dbl&gt; | is_southern &lt;chr&gt; |\n|---|---|---|---|---|---|---|---|---|---|---|---|---|\n| State | Alabama | 1 | All | All | All | Alcohol Abuse                               | 0.0188 | 25102.340 | 23348.604 | 0.2413 | 2184.7557 | southern     |\n| State | Alabama | 1 | All | All | All | Alzheimer's Disease/Dementia                | 0.1140 | 25051.881 | 22554.058 | 0.2119 | 1410.8355 | southern     |\n| State | Alabama | 1 | All | All | All | Arthritis                                   | 0.3897 | 15827.493 | 14403.578 | 0.1775 |  998.3314 | southern     |\n| State | Alabama | 1 | All | All | All | Asthma                                      | 0.0499 | 20560.695 | 18914.583 | 0.2117 | 1614.4483 | southern     |\n| State | Alabama | 1 | All | All | All | Atrial Fibrillation                         | 0.0793 | 25450.459 | 23414.338 | 0.2268 | 1450.9822 | southern     |\n| State | Alabama | 1 | All | All | All | Autism Spectrum Disorders                   | 0.0017 |  7389.224 |  6834.349 | 0.1681 |  941.7373 | southern     |\n| State | Alabama | 1 | All | All | All | COPD                                        | 0.1375 | 24579.417 | 22509.959 | 0.2237 | 1622.4625 | southern     |\n| State | Alabama | 1 | All | All | All | Cancer                                      | 0.0806 | 21378.183 | 19647.875 | 0.1965 | 1000.8886 | southern     |\n| State | Alabama | 1 | All | All | All | Chronic Kidney Disease                      | 0.2740 | 22013.235 | 20194.387 | 0.2172 | 1305.4389 | southern     |\n| State | Alabama | 1 | All | All | All | Depression                                  | 0.1838 | 20298.705 | 18488.541 | 0.2069 | 1423.5163 | southern     |\n| State | Alabama | 1 | All | All | All | Diabetes                                    | 0.3017 | 16286.629 | 14858.612 | 0.2054 | 1021.1721 | southern     |\n| State | Alabama | 1 | All | All | All | Drug/Substance Abuse                        | 0.0430 | 22482.487 | 20827.145 | 0.2541 | 2292.9655 | southern     |\n| State | Alabama | 1 | All | All | All | HIV/AIDS                                    | 0.0033 | 18165.449 | 17360.686 | 0.2638 | 1500.0000 | southern     |\n| State | Alabama | 1 | All | All | All | Heart Failure                               | 0.1609 | 27576.543 | 25290.666 | 0.2346 | 1642.5684 | southern     |\n| State | Alabama | 1 | All | All | All | Hepatitis (Chronic Viral B &amp; C)             | 0.0061 | 27041.694 | 25730.517 | 0.2912 | 2088.5478 | southern     |\n| State | Alabama | 1 | All | All | All | Hyperlipidemia                              | 0.5126 | 13967.377 | 12773.135 | 0.1810 |  860.1103 | southern     |\n| State | Alabama | 1 | All | All | All | Hypertension                                | 0.6553 | 14203.233 | 12977.230 | 0.1808 |  918.2997 | southern     |\n| State | Alabama | 1 | All | All | All | Ischemic Heart Disease                      | 0.2977 | 19260.669 | 17636.401 | 0.2057 | 1181.5682 | southern     |\n| State | Alabama | 1 | All | All | All | Osteoporosis                                | 0.0612 | 17964.778 | 16361.125 | 0.1722 |  967.3446 | southern     |\n| State | Alabama | 1 | All | All | All | Schizophrenia and Other Psychotic Disorders | 0.0314 | 21838.707 | 19732.556 | 0.2333 | 1884.0861 | southern     |\n| State | Alabama | 1 | All | All | All | Stroke                                      | 0.0421 | 31273.815 | 28654.398 | 0.2125 | 1893.7149 | southern     |\n| State | Alaska  | 2 | All | All | All | Alcohol Abuse                               | 0.0307 | 19015.031 | 27744.345 | 0.2065 | 2018.4403 | non-southern |\n| State | Alaska  | 2 | All | All | All | Alzheimer's Disease/Dementia                | 0.0810 | 17488.889 | 24696.943 | 0.1934 | 1477.5837 | non-southern |\n| State | Alaska  | 2 | All | All | All | Arthritis                                   | 0.2509 | 13042.499 | 17562.917 | 0.1499 |  942.7967 | non-southern |\n| State | Alaska  | 2 | All | All | All | Asthma                                      | 0.0346 | 19139.329 | 26181.236 | 0.1972 | 1793.3856 | non-southern |\n| State | Alaska  | 2 | All | All | All | Atrial Fibrillation                         | 0.0608 | 20286.367 | 27779.094 | 0.1970 | 1492.1466 | non-southern |\n| State | Alaska  | 2 | All | All | All | COPD                                        | 0.0823 | 21806.048 | 31218.592 | 0.1985 | 1752.3659 | non-southern |\n| State | Alaska  | 2 | All | All | All | Cancer                                      | 0.0636 | 17692.676 | 23181.676 | 0.1732 |  944.9490 | non-southern |\n| State | Alaska  | 2 | All | All | All | Chronic Kidney Disease                      | 0.1763 | 19898.509 | 27282.516 | 0.1952 | 1370.3084 | non-southern |\n| State | Alaska  | 2 | All | All | All | Depression                                  | 0.1173 | 17263.351 | 23446.430 | 0.1969 | 1536.4039 | non-southern |\n| ⋮ | ⋮ | ⋮ | ⋮ | ⋮ | ⋮ | ⋮ | ⋮ | ⋮ | ⋮ | ⋮ | ⋮ | ⋮ |\n| State | Wisconsin | 55 | All | All | All | Diabetes                                    | 0.2284 | 14246.49 | 14885.05 | 0.2020 | 1029.1171 | non-southern |\n| State | Wisconsin | 55 | All | All | All | Drug/Substance Abuse                        | 0.0267 | 22033.47 | 23333.22 | 0.2660 | 2637.7526 | non-southern |\n| State | Wisconsin | 55 | All | All | All | HIV/AIDS                                    | 0.0014 | 17452.72 | 18728.88 | 0.2885 | 1563.8665 | non-southern |\n| State | Wisconsin | 55 | All | All | All | Heart Failure                               | 0.1269 | 25012.57 | 26605.00 | 0.2244 | 1685.2420 | non-southern |\n| State | Wisconsin | 55 | All | All | All | Hepatitis (Chronic Viral B &amp; C)             | 0.0044 | 23348.30 | 25052.06 | 0.2987 | 2062.7584 | non-southern |\n| State | Wisconsin | 55 | All | All | All | Hyperlipidemia                              | 0.4178 | 13149.19 | 13743.57 | 0.1739 |  940.1264 | non-southern |\n| State | Wisconsin | 55 | All | All | All | Hypertension                                | 0.4985 | 13479.83 | 14087.98 | 0.1754 |  985.4504 | non-southern |\n| State | Wisconsin | 55 | All | All | All | Ischemic Heart Disease                      | 0.2298 | 17622.79 | 18584.63 | 0.2001 | 1233.1795 | non-southern |\n| State | Wisconsin | 55 | All | All | All | Osteoporosis                                | 0.0559 | 18710.97 | 19669.34 | 0.1843 | 1288.3439 | non-southern |\n| State | Wisconsin | 55 | All | All | All | Schizophrenia and Other Psychotic Disorders | 0.0262 | 14270.43 | 15054.54 | 0.2229 | 1884.7434 | non-southern |\n| State | Wisconsin | 55 | All | All | All | Stroke                                      | 0.0265 | 29223.21 | 30972.52 | 0.2027 | 2017.7167 | non-southern |\n| State | Wyoming   | 56 | All | All | All | Alcohol Abuse                               | 0.0177 | 20685.47 | 24518.63 | 0.1973 | 2215.1231 | non-southern |\n| State | Wyoming   | 56 | All | All | All | Alzheimer's Disease/Dementia                | 0.0770 | 18790.73 | 21637.21 | 0.1736 | 1445.8693 | non-southern |\n| State | Wyoming   | 56 | All | All | All | Arthritis                                   | 0.2645 | 14502.71 | 16308.93 | 0.1394 |  951.6694 | non-southern |\n| State | Wyoming   | 56 | All | All | All | Asthma                                      | 0.0308 | 19559.40 | 22345.53 | 0.1735 | 1633.4796 | non-southern |\n| State | Wyoming   | 56 | All | All | All | Atrial Fibrillation                         | 0.0650 | 21894.27 | 25336.30 | 0.1961 | 1472.4132 | non-southern |\n| State | Wyoming   | 56 | All | All | All | COPD                                        | 0.1053 | 21580.48 | 25199.92 | 0.1882 | 1700.5828 | non-southern |\n| State | Wyoming   | 56 | All | All | All | Cancer                                      | 0.0657 | 19992.18 | 22436.01 | 0.1668 |  995.4114 | non-southern |\n| State | Wyoming   | 56 | All | All | All | Chronic Kidney Disease                      | 0.1562 | 21809.32 | 25095.76 | 0.1957 | 1480.9511 | non-southern |\n| State | Wyoming   | 56 | All | All | All | Depression                                  | 0.1496 | 18160.82 | 20551.48 | 0.1799 | 1426.3162 | non-southern |\n| State | Wyoming   | 56 | All | All | All | Diabetes                                    | 0.1986 | 13430.02 | 15203.86 | 0.1745 |  952.2263 | non-southern |\n| State | Wyoming   | 56 | All | All | All | Drug/Substance Abuse                        | 0.0218 | 23647.06 | 27170.60 | 0.2070 | 2501.9102 | non-southern |\n| State | Wyoming   | 56 | All | All | All | Heart Failure                               | 0.1090 | 23719.83 | 27618.76 | 0.2077 | 1657.1892 | non-southern |\n| State | Wyoming   | 56 | All | All | All | Hepatitis (Chronic Viral B &amp; C)             | 0.0041 | 17398.35 | 20446.04 | 0.2113 | 2055.2764 | non-southern |\n| State | Wyoming   | 56 | All | All | All | Hyperlipidemia                              | 0.2448 | 15455.42 | 17662.75 | 0.1652 | 1021.4547 | non-southern |\n| State | Wyoming   | 56 | All | All | All | Hypertension                                | 0.4038 | 14596.53 | 16604.15 | 0.1563 | 1032.4567 | non-southern |\n| State | Wyoming   | 56 | All | All | All | Ischemic Heart Disease                      | 0.2010 | 17492.86 | 20113.11 | 0.1772 | 1248.6805 | non-southern |\n| State | Wyoming   | 56 | All | All | All | Osteoporosis                                | 0.0480 | 19099.81 | 21672.17 | 0.1684 | 1137.0338 | non-southern |\n| State | Wyoming   | 56 | All | All | All | Schizophrenia and Other Psychotic Disorders | 0.0154 | 16458.95 | 18485.60 | 0.2006 | 2171.5057 | non-southern |\n| State | Wyoming   | 56 | All | All | All | Stroke                                      | 0.0210 | 31635.65 | 35836.67 | 0.1921 | 2129.5747 | non-southern |\n\n",
            "text/latex": "A data.frame: 1051 × 13\n\\begin{tabular}{lllllllllllll}\n Bene\\_Geo\\_Lvl & Bene\\_Geo\\_Desc & Bene\\_Geo\\_Cd & Bene\\_Age\\_Lvl & Bene\\_Demo\\_Lvl & Bene\\_Demo\\_Desc & Bene\\_Cond & Prvlnc & Tot\\_Mdcr\\_Stdzd\\_Pymt\\_PC & Tot\\_Mdcr\\_Pymt\\_PC & Hosp\\_Readmsn\\_Rate & ER\\_Visits\\_Per\\_1000\\_Benes & is\\_southern\\\\\n <chr> & <chr> & <dbl> & <chr> & <chr> & <chr> & <chr> & <dbl> & <dbl> & <dbl> & <dbl> & <dbl> & <chr>\\\\\n\\hline\n\t State & Alabama & 1 & All & All & All & Alcohol Abuse                               & 0.0188 & 25102.340 & 23348.604 & 0.2413 & 2184.7557 & southern    \\\\\n\t State & Alabama & 1 & All & All & All & Alzheimer's Disease/Dementia                & 0.1140 & 25051.881 & 22554.058 & 0.2119 & 1410.8355 & southern    \\\\\n\t State & Alabama & 1 & All & All & All & Arthritis                                   & 0.3897 & 15827.493 & 14403.578 & 0.1775 &  998.3314 & southern    \\\\\n\t State & Alabama & 1 & All & All & All & Asthma                                      & 0.0499 & 20560.695 & 18914.583 & 0.2117 & 1614.4483 & southern    \\\\\n\t State & Alabama & 1 & All & All & All & Atrial Fibrillation                         & 0.0793 & 25450.459 & 23414.338 & 0.2268 & 1450.9822 & southern    \\\\\n\t State & Alabama & 1 & All & All & All & Autism Spectrum Disorders                   & 0.0017 &  7389.224 &  6834.349 & 0.1681 &  941.7373 & southern    \\\\\n\t State & Alabama & 1 & All & All & All & COPD                                        & 0.1375 & 24579.417 & 22509.959 & 0.2237 & 1622.4625 & southern    \\\\\n\t State & Alabama & 1 & All & All & All & Cancer                                      & 0.0806 & 21378.183 & 19647.875 & 0.1965 & 1000.8886 & southern    \\\\\n\t State & Alabama & 1 & All & All & All & Chronic Kidney Disease                      & 0.2740 & 22013.235 & 20194.387 & 0.2172 & 1305.4389 & southern    \\\\\n\t State & Alabama & 1 & All & All & All & Depression                                  & 0.1838 & 20298.705 & 18488.541 & 0.2069 & 1423.5163 & southern    \\\\\n\t State & Alabama & 1 & All & All & All & Diabetes                                    & 0.3017 & 16286.629 & 14858.612 & 0.2054 & 1021.1721 & southern    \\\\\n\t State & Alabama & 1 & All & All & All & Drug/Substance Abuse                        & 0.0430 & 22482.487 & 20827.145 & 0.2541 & 2292.9655 & southern    \\\\\n\t State & Alabama & 1 & All & All & All & HIV/AIDS                                    & 0.0033 & 18165.449 & 17360.686 & 0.2638 & 1500.0000 & southern    \\\\\n\t State & Alabama & 1 & All & All & All & Heart Failure                               & 0.1609 & 27576.543 & 25290.666 & 0.2346 & 1642.5684 & southern    \\\\\n\t State & Alabama & 1 & All & All & All & Hepatitis (Chronic Viral B \\& C)             & 0.0061 & 27041.694 & 25730.517 & 0.2912 & 2088.5478 & southern    \\\\\n\t State & Alabama & 1 & All & All & All & Hyperlipidemia                              & 0.5126 & 13967.377 & 12773.135 & 0.1810 &  860.1103 & southern    \\\\\n\t State & Alabama & 1 & All & All & All & Hypertension                                & 0.6553 & 14203.233 & 12977.230 & 0.1808 &  918.2997 & southern    \\\\\n\t State & Alabama & 1 & All & All & All & Ischemic Heart Disease                      & 0.2977 & 19260.669 & 17636.401 & 0.2057 & 1181.5682 & southern    \\\\\n\t State & Alabama & 1 & All & All & All & Osteoporosis                                & 0.0612 & 17964.778 & 16361.125 & 0.1722 &  967.3446 & southern    \\\\\n\t State & Alabama & 1 & All & All & All & Schizophrenia and Other Psychotic Disorders & 0.0314 & 21838.707 & 19732.556 & 0.2333 & 1884.0861 & southern    \\\\\n\t State & Alabama & 1 & All & All & All & Stroke                                      & 0.0421 & 31273.815 & 28654.398 & 0.2125 & 1893.7149 & southern    \\\\\n\t State & Alaska  & 2 & All & All & All & Alcohol Abuse                               & 0.0307 & 19015.031 & 27744.345 & 0.2065 & 2018.4403 & non-southern\\\\\n\t State & Alaska  & 2 & All & All & All & Alzheimer's Disease/Dementia                & 0.0810 & 17488.889 & 24696.943 & 0.1934 & 1477.5837 & non-southern\\\\\n\t State & Alaska  & 2 & All & All & All & Arthritis                                   & 0.2509 & 13042.499 & 17562.917 & 0.1499 &  942.7967 & non-southern\\\\\n\t State & Alaska  & 2 & All & All & All & Asthma                                      & 0.0346 & 19139.329 & 26181.236 & 0.1972 & 1793.3856 & non-southern\\\\\n\t State & Alaska  & 2 & All & All & All & Atrial Fibrillation                         & 0.0608 & 20286.367 & 27779.094 & 0.1970 & 1492.1466 & non-southern\\\\\n\t State & Alaska  & 2 & All & All & All & COPD                                        & 0.0823 & 21806.048 & 31218.592 & 0.1985 & 1752.3659 & non-southern\\\\\n\t State & Alaska  & 2 & All & All & All & Cancer                                      & 0.0636 & 17692.676 & 23181.676 & 0.1732 &  944.9490 & non-southern\\\\\n\t State & Alaska  & 2 & All & All & All & Chronic Kidney Disease                      & 0.1763 & 19898.509 & 27282.516 & 0.1952 & 1370.3084 & non-southern\\\\\n\t State & Alaska  & 2 & All & All & All & Depression                                  & 0.1173 & 17263.351 & 23446.430 & 0.1969 & 1536.4039 & non-southern\\\\\n\t ⋮ & ⋮ & ⋮ & ⋮ & ⋮ & ⋮ & ⋮ & ⋮ & ⋮ & ⋮ & ⋮ & ⋮ & ⋮\\\\\n\t State & Wisconsin & 55 & All & All & All & Diabetes                                    & 0.2284 & 14246.49 & 14885.05 & 0.2020 & 1029.1171 & non-southern\\\\\n\t State & Wisconsin & 55 & All & All & All & Drug/Substance Abuse                        & 0.0267 & 22033.47 & 23333.22 & 0.2660 & 2637.7526 & non-southern\\\\\n\t State & Wisconsin & 55 & All & All & All & HIV/AIDS                                    & 0.0014 & 17452.72 & 18728.88 & 0.2885 & 1563.8665 & non-southern\\\\\n\t State & Wisconsin & 55 & All & All & All & Heart Failure                               & 0.1269 & 25012.57 & 26605.00 & 0.2244 & 1685.2420 & non-southern\\\\\n\t State & Wisconsin & 55 & All & All & All & Hepatitis (Chronic Viral B \\& C)             & 0.0044 & 23348.30 & 25052.06 & 0.2987 & 2062.7584 & non-southern\\\\\n\t State & Wisconsin & 55 & All & All & All & Hyperlipidemia                              & 0.4178 & 13149.19 & 13743.57 & 0.1739 &  940.1264 & non-southern\\\\\n\t State & Wisconsin & 55 & All & All & All & Hypertension                                & 0.4985 & 13479.83 & 14087.98 & 0.1754 &  985.4504 & non-southern\\\\\n\t State & Wisconsin & 55 & All & All & All & Ischemic Heart Disease                      & 0.2298 & 17622.79 & 18584.63 & 0.2001 & 1233.1795 & non-southern\\\\\n\t State & Wisconsin & 55 & All & All & All & Osteoporosis                                & 0.0559 & 18710.97 & 19669.34 & 0.1843 & 1288.3439 & non-southern\\\\\n\t State & Wisconsin & 55 & All & All & All & Schizophrenia and Other Psychotic Disorders & 0.0262 & 14270.43 & 15054.54 & 0.2229 & 1884.7434 & non-southern\\\\\n\t State & Wisconsin & 55 & All & All & All & Stroke                                      & 0.0265 & 29223.21 & 30972.52 & 0.2027 & 2017.7167 & non-southern\\\\\n\t State & Wyoming   & 56 & All & All & All & Alcohol Abuse                               & 0.0177 & 20685.47 & 24518.63 & 0.1973 & 2215.1231 & non-southern\\\\\n\t State & Wyoming   & 56 & All & All & All & Alzheimer's Disease/Dementia                & 0.0770 & 18790.73 & 21637.21 & 0.1736 & 1445.8693 & non-southern\\\\\n\t State & Wyoming   & 56 & All & All & All & Arthritis                                   & 0.2645 & 14502.71 & 16308.93 & 0.1394 &  951.6694 & non-southern\\\\\n\t State & Wyoming   & 56 & All & All & All & Asthma                                      & 0.0308 & 19559.40 & 22345.53 & 0.1735 & 1633.4796 & non-southern\\\\\n\t State & Wyoming   & 56 & All & All & All & Atrial Fibrillation                         & 0.0650 & 21894.27 & 25336.30 & 0.1961 & 1472.4132 & non-southern\\\\\n\t State & Wyoming   & 56 & All & All & All & COPD                                        & 0.1053 & 21580.48 & 25199.92 & 0.1882 & 1700.5828 & non-southern\\\\\n\t State & Wyoming   & 56 & All & All & All & Cancer                                      & 0.0657 & 19992.18 & 22436.01 & 0.1668 &  995.4114 & non-southern\\\\\n\t State & Wyoming   & 56 & All & All & All & Chronic Kidney Disease                      & 0.1562 & 21809.32 & 25095.76 & 0.1957 & 1480.9511 & non-southern\\\\\n\t State & Wyoming   & 56 & All & All & All & Depression                                  & 0.1496 & 18160.82 & 20551.48 & 0.1799 & 1426.3162 & non-southern\\\\\n\t State & Wyoming   & 56 & All & All & All & Diabetes                                    & 0.1986 & 13430.02 & 15203.86 & 0.1745 &  952.2263 & non-southern\\\\\n\t State & Wyoming   & 56 & All & All & All & Drug/Substance Abuse                        & 0.0218 & 23647.06 & 27170.60 & 0.2070 & 2501.9102 & non-southern\\\\\n\t State & Wyoming   & 56 & All & All & All & Heart Failure                               & 0.1090 & 23719.83 & 27618.76 & 0.2077 & 1657.1892 & non-southern\\\\\n\t State & Wyoming   & 56 & All & All & All & Hepatitis (Chronic Viral B \\& C)             & 0.0041 & 17398.35 & 20446.04 & 0.2113 & 2055.2764 & non-southern\\\\\n\t State & Wyoming   & 56 & All & All & All & Hyperlipidemia                              & 0.2448 & 15455.42 & 17662.75 & 0.1652 & 1021.4547 & non-southern\\\\\n\t State & Wyoming   & 56 & All & All & All & Hypertension                                & 0.4038 & 14596.53 & 16604.15 & 0.1563 & 1032.4567 & non-southern\\\\\n\t State & Wyoming   & 56 & All & All & All & Ischemic Heart Disease                      & 0.2010 & 17492.86 & 20113.11 & 0.1772 & 1248.6805 & non-southern\\\\\n\t State & Wyoming   & 56 & All & All & All & Osteoporosis                                & 0.0480 & 19099.81 & 21672.17 & 0.1684 & 1137.0338 & non-southern\\\\\n\t State & Wyoming   & 56 & All & All & All & Schizophrenia and Other Psychotic Disorders & 0.0154 & 16458.95 & 18485.60 & 0.2006 & 2171.5057 & non-southern\\\\\n\t State & Wyoming   & 56 & All & All & All & Stroke                                      & 0.0210 & 31635.65 & 35836.67 & 0.1921 & 2129.5747 & non-southern\\\\\n\\end{tabular}\n",
            "text/plain": [
              "     Bene_Geo_Lvl Bene_Geo_Desc Bene_Geo_Cd Bene_Age_Lvl Bene_Demo_Lvl\n",
              "1    State        Alabama       1           All          All          \n",
              "2    State        Alabama       1           All          All          \n",
              "3    State        Alabama       1           All          All          \n",
              "4    State        Alabama       1           All          All          \n",
              "5    State        Alabama       1           All          All          \n",
              "6    State        Alabama       1           All          All          \n",
              "7    State        Alabama       1           All          All          \n",
              "8    State        Alabama       1           All          All          \n",
              "9    State        Alabama       1           All          All          \n",
              "10   State        Alabama       1           All          All          \n",
              "11   State        Alabama       1           All          All          \n",
              "12   State        Alabama       1           All          All          \n",
              "13   State        Alabama       1           All          All          \n",
              "14   State        Alabama       1           All          All          \n",
              "15   State        Alabama       1           All          All          \n",
              "16   State        Alabama       1           All          All          \n",
              "17   State        Alabama       1           All          All          \n",
              "18   State        Alabama       1           All          All          \n",
              "19   State        Alabama       1           All          All          \n",
              "20   State        Alabama       1           All          All          \n",
              "21   State        Alabama       1           All          All          \n",
              "22   State        Alaska        2           All          All          \n",
              "23   State        Alaska        2           All          All          \n",
              "24   State        Alaska        2           All          All          \n",
              "25   State        Alaska        2           All          All          \n",
              "26   State        Alaska        2           All          All          \n",
              "27   State        Alaska        2           All          All          \n",
              "28   State        Alaska        2           All          All          \n",
              "29   State        Alaska        2           All          All          \n",
              "30   State        Alaska        2           All          All          \n",
              "⋮    ⋮            ⋮             ⋮           ⋮            ⋮            \n",
              "1022 State        Wisconsin     55          All          All          \n",
              "1023 State        Wisconsin     55          All          All          \n",
              "1024 State        Wisconsin     55          All          All          \n",
              "1025 State        Wisconsin     55          All          All          \n",
              "1026 State        Wisconsin     55          All          All          \n",
              "1027 State        Wisconsin     55          All          All          \n",
              "1028 State        Wisconsin     55          All          All          \n",
              "1029 State        Wisconsin     55          All          All          \n",
              "1030 State        Wisconsin     55          All          All          \n",
              "1031 State        Wisconsin     55          All          All          \n",
              "1032 State        Wisconsin     55          All          All          \n",
              "1033 State        Wyoming       56          All          All          \n",
              "1034 State        Wyoming       56          All          All          \n",
              "1035 State        Wyoming       56          All          All          \n",
              "1036 State        Wyoming       56          All          All          \n",
              "1037 State        Wyoming       56          All          All          \n",
              "1038 State        Wyoming       56          All          All          \n",
              "1039 State        Wyoming       56          All          All          \n",
              "1040 State        Wyoming       56          All          All          \n",
              "1041 State        Wyoming       56          All          All          \n",
              "1042 State        Wyoming       56          All          All          \n",
              "1043 State        Wyoming       56          All          All          \n",
              "1044 State        Wyoming       56          All          All          \n",
              "1045 State        Wyoming       56          All          All          \n",
              "1046 State        Wyoming       56          All          All          \n",
              "1047 State        Wyoming       56          All          All          \n",
              "1048 State        Wyoming       56          All          All          \n",
              "1049 State        Wyoming       56          All          All          \n",
              "1050 State        Wyoming       56          All          All          \n",
              "1051 State        Wyoming       56          All          All          \n",
              "     Bene_Demo_Desc Bene_Cond                                   Prvlnc\n",
              "1    All            Alcohol Abuse                               0.0188\n",
              "2    All            Alzheimer's Disease/Dementia                0.1140\n",
              "3    All            Arthritis                                   0.3897\n",
              "4    All            Asthma                                      0.0499\n",
              "5    All            Atrial Fibrillation                         0.0793\n",
              "6    All            Autism Spectrum Disorders                   0.0017\n",
              "7    All            COPD                                        0.1375\n",
              "8    All            Cancer                                      0.0806\n",
              "9    All            Chronic Kidney Disease                      0.2740\n",
              "10   All            Depression                                  0.1838\n",
              "11   All            Diabetes                                    0.3017\n",
              "12   All            Drug/Substance Abuse                        0.0430\n",
              "13   All            HIV/AIDS                                    0.0033\n",
              "14   All            Heart Failure                               0.1609\n",
              "15   All            Hepatitis (Chronic Viral B & C)             0.0061\n",
              "16   All            Hyperlipidemia                              0.5126\n",
              "17   All            Hypertension                                0.6553\n",
              "18   All            Ischemic Heart Disease                      0.2977\n",
              "19   All            Osteoporosis                                0.0612\n",
              "20   All            Schizophrenia and Other Psychotic Disorders 0.0314\n",
              "21   All            Stroke                                      0.0421\n",
              "22   All            Alcohol Abuse                               0.0307\n",
              "23   All            Alzheimer's Disease/Dementia                0.0810\n",
              "24   All            Arthritis                                   0.2509\n",
              "25   All            Asthma                                      0.0346\n",
              "26   All            Atrial Fibrillation                         0.0608\n",
              "27   All            COPD                                        0.0823\n",
              "28   All            Cancer                                      0.0636\n",
              "29   All            Chronic Kidney Disease                      0.1763\n",
              "30   All            Depression                                  0.1173\n",
              "⋮    ⋮              ⋮                                           ⋮     \n",
              "1022 All            Diabetes                                    0.2284\n",
              "1023 All            Drug/Substance Abuse                        0.0267\n",
              "1024 All            HIV/AIDS                                    0.0014\n",
              "1025 All            Heart Failure                               0.1269\n",
              "1026 All            Hepatitis (Chronic Viral B & C)             0.0044\n",
              "1027 All            Hyperlipidemia                              0.4178\n",
              "1028 All            Hypertension                                0.4985\n",
              "1029 All            Ischemic Heart Disease                      0.2298\n",
              "1030 All            Osteoporosis                                0.0559\n",
              "1031 All            Schizophrenia and Other Psychotic Disorders 0.0262\n",
              "1032 All            Stroke                                      0.0265\n",
              "1033 All            Alcohol Abuse                               0.0177\n",
              "1034 All            Alzheimer's Disease/Dementia                0.0770\n",
              "1035 All            Arthritis                                   0.2645\n",
              "1036 All            Asthma                                      0.0308\n",
              "1037 All            Atrial Fibrillation                         0.0650\n",
              "1038 All            COPD                                        0.1053\n",
              "1039 All            Cancer                                      0.0657\n",
              "1040 All            Chronic Kidney Disease                      0.1562\n",
              "1041 All            Depression                                  0.1496\n",
              "1042 All            Diabetes                                    0.1986\n",
              "1043 All            Drug/Substance Abuse                        0.0218\n",
              "1044 All            Heart Failure                               0.1090\n",
              "1045 All            Hepatitis (Chronic Viral B & C)             0.0041\n",
              "1046 All            Hyperlipidemia                              0.2448\n",
              "1047 All            Hypertension                                0.4038\n",
              "1048 All            Ischemic Heart Disease                      0.2010\n",
              "1049 All            Osteoporosis                                0.0480\n",
              "1050 All            Schizophrenia and Other Psychotic Disorders 0.0154\n",
              "1051 All            Stroke                                      0.0210\n",
              "     Tot_Mdcr_Stdzd_Pymt_PC Tot_Mdcr_Pymt_PC Hosp_Readmsn_Rate\n",
              "1    25102.340              23348.604        0.2413           \n",
              "2    25051.881              22554.058        0.2119           \n",
              "3    15827.493              14403.578        0.1775           \n",
              "4    20560.695              18914.583        0.2117           \n",
              "5    25450.459              23414.338        0.2268           \n",
              "6     7389.224               6834.349        0.1681           \n",
              "7    24579.417              22509.959        0.2237           \n",
              "8    21378.183              19647.875        0.1965           \n",
              "9    22013.235              20194.387        0.2172           \n",
              "10   20298.705              18488.541        0.2069           \n",
              "11   16286.629              14858.612        0.2054           \n",
              "12   22482.487              20827.145        0.2541           \n",
              "13   18165.449              17360.686        0.2638           \n",
              "14   27576.543              25290.666        0.2346           \n",
              "15   27041.694              25730.517        0.2912           \n",
              "16   13967.377              12773.135        0.1810           \n",
              "17   14203.233              12977.230        0.1808           \n",
              "18   19260.669              17636.401        0.2057           \n",
              "19   17964.778              16361.125        0.1722           \n",
              "20   21838.707              19732.556        0.2333           \n",
              "21   31273.815              28654.398        0.2125           \n",
              "22   19015.031              27744.345        0.2065           \n",
              "23   17488.889              24696.943        0.1934           \n",
              "24   13042.499              17562.917        0.1499           \n",
              "25   19139.329              26181.236        0.1972           \n",
              "26   20286.367              27779.094        0.1970           \n",
              "27   21806.048              31218.592        0.1985           \n",
              "28   17692.676              23181.676        0.1732           \n",
              "29   19898.509              27282.516        0.1952           \n",
              "30   17263.351              23446.430        0.1969           \n",
              "⋮    ⋮                      ⋮                ⋮                \n",
              "1022 14246.49               14885.05         0.2020           \n",
              "1023 22033.47               23333.22         0.2660           \n",
              "1024 17452.72               18728.88         0.2885           \n",
              "1025 25012.57               26605.00         0.2244           \n",
              "1026 23348.30               25052.06         0.2987           \n",
              "1027 13149.19               13743.57         0.1739           \n",
              "1028 13479.83               14087.98         0.1754           \n",
              "1029 17622.79               18584.63         0.2001           \n",
              "1030 18710.97               19669.34         0.1843           \n",
              "1031 14270.43               15054.54         0.2229           \n",
              "1032 29223.21               30972.52         0.2027           \n",
              "1033 20685.47               24518.63         0.1973           \n",
              "1034 18790.73               21637.21         0.1736           \n",
              "1035 14502.71               16308.93         0.1394           \n",
              "1036 19559.40               22345.53         0.1735           \n",
              "1037 21894.27               25336.30         0.1961           \n",
              "1038 21580.48               25199.92         0.1882           \n",
              "1039 19992.18               22436.01         0.1668           \n",
              "1040 21809.32               25095.76         0.1957           \n",
              "1041 18160.82               20551.48         0.1799           \n",
              "1042 13430.02               15203.86         0.1745           \n",
              "1043 23647.06               27170.60         0.2070           \n",
              "1044 23719.83               27618.76         0.2077           \n",
              "1045 17398.35               20446.04         0.2113           \n",
              "1046 15455.42               17662.75         0.1652           \n",
              "1047 14596.53               16604.15         0.1563           \n",
              "1048 17492.86               20113.11         0.1772           \n",
              "1049 19099.81               21672.17         0.1684           \n",
              "1050 16458.95               18485.60         0.2006           \n",
              "1051 31635.65               35836.67         0.1921           \n",
              "     ER_Visits_Per_1000_Benes is_southern \n",
              "1    2184.7557                southern    \n",
              "2    1410.8355                southern    \n",
              "3     998.3314                southern    \n",
              "4    1614.4483                southern    \n",
              "5    1450.9822                southern    \n",
              "6     941.7373                southern    \n",
              "7    1622.4625                southern    \n",
              "8    1000.8886                southern    \n",
              "9    1305.4389                southern    \n",
              "10   1423.5163                southern    \n",
              "11   1021.1721                southern    \n",
              "12   2292.9655                southern    \n",
              "13   1500.0000                southern    \n",
              "14   1642.5684                southern    \n",
              "15   2088.5478                southern    \n",
              "16    860.1103                southern    \n",
              "17    918.2997                southern    \n",
              "18   1181.5682                southern    \n",
              "19    967.3446                southern    \n",
              "20   1884.0861                southern    \n",
              "21   1893.7149                southern    \n",
              "22   2018.4403                non-southern\n",
              "23   1477.5837                non-southern\n",
              "24    942.7967                non-southern\n",
              "25   1793.3856                non-southern\n",
              "26   1492.1466                non-southern\n",
              "27   1752.3659                non-southern\n",
              "28    944.9490                non-southern\n",
              "29   1370.3084                non-southern\n",
              "30   1536.4039                non-southern\n",
              "⋮    ⋮                        ⋮           \n",
              "1022 1029.1171                non-southern\n",
              "1023 2637.7526                non-southern\n",
              "1024 1563.8665                non-southern\n",
              "1025 1685.2420                non-southern\n",
              "1026 2062.7584                non-southern\n",
              "1027  940.1264                non-southern\n",
              "1028  985.4504                non-southern\n",
              "1029 1233.1795                non-southern\n",
              "1030 1288.3439                non-southern\n",
              "1031 1884.7434                non-southern\n",
              "1032 2017.7167                non-southern\n",
              "1033 2215.1231                non-southern\n",
              "1034 1445.8693                non-southern\n",
              "1035  951.6694                non-southern\n",
              "1036 1633.4796                non-southern\n",
              "1037 1472.4132                non-southern\n",
              "1038 1700.5828                non-southern\n",
              "1039  995.4114                non-southern\n",
              "1040 1480.9511                non-southern\n",
              "1041 1426.3162                non-southern\n",
              "1042  952.2263                non-southern\n",
              "1043 2501.9102                non-southern\n",
              "1044 1657.1892                non-southern\n",
              "1045 2055.2764                non-southern\n",
              "1046 1021.4547                non-southern\n",
              "1047 1032.4567                non-southern\n",
              "1048 1248.6805                non-southern\n",
              "1049 1137.0338                non-southern\n",
              "1050 2171.5057                non-southern\n",
              "1051 2129.5747                non-southern"
            ]
          },
          "metadata": {}
        }
      ]
    },
    {
      "cell_type": "code",
      "source": [
        "diabetes_data <- subset(data_cms, Bene_Cond == 'Diabetes')\n",
        "diabetes_data"
      ],
      "metadata": {
        "colab": {
          "base_uri": "https://localhost:8080/",
          "height": 1000
        },
        "id": "um4_AbczOyqZ",
        "outputId": "40c39800-5a62-4ca2-be30-bf339450bde1"
      },
      "execution_count": 20,
      "outputs": [
        {
          "output_type": "display_data",
          "data": {
            "text/html": [
              "<table class=\"dataframe\">\n",
              "<caption>A data.frame: 51 × 13</caption>\n",
              "<thead>\n",
              "\t<tr><th></th><th scope=col>Bene_Geo_Lvl</th><th scope=col>Bene_Geo_Desc</th><th scope=col>Bene_Geo_Cd</th><th scope=col>Bene_Age_Lvl</th><th scope=col>Bene_Demo_Lvl</th><th scope=col>Bene_Demo_Desc</th><th scope=col>Bene_Cond</th><th scope=col>Prvlnc</th><th scope=col>Tot_Mdcr_Stdzd_Pymt_PC</th><th scope=col>Tot_Mdcr_Pymt_PC</th><th scope=col>Hosp_Readmsn_Rate</th><th scope=col>ER_Visits_Per_1000_Benes</th><th scope=col>is_southern</th></tr>\n",
              "\t<tr><th></th><th scope=col>&lt;chr&gt;</th><th scope=col>&lt;chr&gt;</th><th scope=col>&lt;dbl&gt;</th><th scope=col>&lt;chr&gt;</th><th scope=col>&lt;chr&gt;</th><th scope=col>&lt;chr&gt;</th><th scope=col>&lt;chr&gt;</th><th scope=col>&lt;dbl&gt;</th><th scope=col>&lt;dbl&gt;</th><th scope=col>&lt;dbl&gt;</th><th scope=col>&lt;dbl&gt;</th><th scope=col>&lt;dbl&gt;</th><th scope=col>&lt;chr&gt;</th></tr>\n",
              "</thead>\n",
              "<tbody>\n",
              "\t<tr><th scope=row>11</th><td>State</td><td>Alabama             </td><td> 1</td><td>All</td><td>All</td><td>All</td><td>Diabetes</td><td>0.3017</td><td>16286.63</td><td>14858.61</td><td>0.2054</td><td>1021.1721</td><td>southern    </td></tr>\n",
              "\t<tr><th scope=row>31</th><td>State</td><td>Alaska              </td><td> 2</td><td>All</td><td>All</td><td>All</td><td>Diabetes</td><td>0.2048</td><td>13185.46</td><td>17673.46</td><td>0.1791</td><td> 970.4527</td><td>non-southern</td></tr>\n",
              "\t<tr><th scope=row>51</th><td>State</td><td>Arizona             </td><td> 4</td><td>All</td><td>All</td><td>All</td><td>Diabetes</td><td>0.2274</td><td>15076.55</td><td>16070.54</td><td>0.1986</td><td> 873.5951</td><td>non-southern</td></tr>\n",
              "\t<tr><th scope=row>72</th><td>State</td><td>Arkansas            </td><td> 5</td><td>All</td><td>All</td><td>All</td><td>Diabetes</td><td>0.2572</td><td>15912.55</td><td>14837.73</td><td>0.2131</td><td>1031.6390</td><td>southern    </td></tr>\n",
              "\t<tr><th scope=row>93</th><td>State</td><td>California          </td><td> 6</td><td>All</td><td>All</td><td>All</td><td>Diabetes</td><td>0.2719</td><td>16551.50</td><td>20896.40</td><td>0.2282</td><td> 978.6757</td><td>non-southern</td></tr>\n",
              "\t<tr><th scope=row>114</th><td>State</td><td>Colorado            </td><td> 8</td><td>All</td><td>All</td><td>All</td><td>Diabetes</td><td>0.1829</td><td>14794.45</td><td>15683.52</td><td>0.1841</td><td> 996.7261</td><td>non-southern</td></tr>\n",
              "\t<tr><th scope=row>135</th><td>State</td><td>Connecticut         </td><td> 9</td><td>All</td><td>All</td><td>All</td><td>Diabetes</td><td>0.2505</td><td>16672.29</td><td>19927.77</td><td>0.2261</td><td>1156.1202</td><td>non-southern</td></tr>\n",
              "\t<tr><th scope=row>156</th><td>State</td><td>Delaware            </td><td>10</td><td>All</td><td>All</td><td>All</td><td>Diabetes</td><td>0.2882</td><td>14546.57</td><td>16113.02</td><td>0.2082</td><td> 900.5331</td><td>southern    </td></tr>\n",
              "\t<tr><th scope=row>176</th><td>State</td><td>District of Columbia</td><td>11</td><td>All</td><td>All</td><td>All</td><td>Diabetes</td><td>0.2881</td><td>18276.00</td><td>21865.86</td><td>0.2619</td><td>1518.4258</td><td>southern    </td></tr>\n",
              "\t<tr><th scope=row>197</th><td>State</td><td>Florida             </td><td>12</td><td>All</td><td>All</td><td>All</td><td>Diabetes</td><td>0.2781</td><td>18419.30</td><td>18471.69</td><td>0.2301</td><td>1012.9013</td><td>southern    </td></tr>\n",
              "\t<tr><th scope=row>218</th><td>State</td><td>Georgia             </td><td>13</td><td>All</td><td>All</td><td>All</td><td>Diabetes</td><td>0.2788</td><td>16699.31</td><td>16478.41</td><td>0.2233</td><td>1066.9929</td><td>southern    </td></tr>\n",
              "\t<tr><th scope=row>238</th><td>State</td><td>Hawaii              </td><td>15</td><td>All</td><td>All</td><td>All</td><td>Diabetes</td><td>0.2709</td><td>11980.35</td><td>14394.59</td><td>0.1758</td><td> 806.7334</td><td>non-southern</td></tr>\n",
              "\t<tr><th scope=row>257</th><td>State</td><td>Idaho               </td><td>16</td><td>All</td><td>All</td><td>All</td><td>Diabetes</td><td>0.2193</td><td>13870.31</td><td>13926.42</td><td>0.1679</td><td> 951.4655</td><td>non-southern</td></tr>\n",
              "\t<tr><th scope=row>277</th><td>State</td><td>Illinois            </td><td>17</td><td>All</td><td>All</td><td>All</td><td>Diabetes</td><td>0.2706</td><td>17112.14</td><td>18133.20</td><td>0.2283</td><td>1051.7994</td><td>non-southern</td></tr>\n",
              "\t<tr><th scope=row>298</th><td>State</td><td>Indiana             </td><td>18</td><td>All</td><td>All</td><td>All</td><td>Diabetes</td><td>0.2784</td><td>16204.16</td><td>16334.34</td><td>0.2107</td><td>1076.6306</td><td>non-southern</td></tr>\n",
              "\t<tr><th scope=row>319</th><td>State</td><td>Iowa                </td><td>19</td><td>All</td><td>All</td><td>All</td><td>Diabetes</td><td>0.2399</td><td>13572.88</td><td>13762.14</td><td>0.1840</td><td> 934.3215</td><td>non-southern</td></tr>\n",
              "\t<tr><th scope=row>340</th><td>State</td><td>Kansas              </td><td>20</td><td>All</td><td>All</td><td>All</td><td>Diabetes</td><td>0.2534</td><td>15705.29</td><td>15282.91</td><td>0.1939</td><td> 961.5354</td><td>non-southern</td></tr>\n",
              "\t<tr><th scope=row>361</th><td>State</td><td>Kentucky            </td><td>21</td><td>All</td><td>All</td><td>All</td><td>Diabetes</td><td>0.2934</td><td>15748.22</td><td>15306.11</td><td>0.2237</td><td>1140.9786</td><td>southern    </td></tr>\n",
              "\t<tr><th scope=row>382</th><td>State</td><td>Louisiana           </td><td>22</td><td>All</td><td>All</td><td>All</td><td>Diabetes</td><td>0.2996</td><td>19036.25</td><td>18128.64</td><td>0.2184</td><td>1210.1268</td><td>southern    </td></tr>\n",
              "\t<tr><th scope=row>403</th><td>State</td><td>Maine               </td><td>23</td><td>All</td><td>All</td><td>All</td><td>Diabetes</td><td>0.2255</td><td>14223.63</td><td>14893.57</td><td>0.2024</td><td>1197.1466</td><td>non-southern</td></tr>\n",
              "\t<tr><th scope=row>423</th><td>State</td><td>Maryland            </td><td>24</td><td>All</td><td>All</td><td>All</td><td>Diabetes</td><td>0.2957</td><td>15515.59</td><td>19202.04</td><td>0.2352</td><td> 989.2759</td><td>southern    </td></tr>\n",
              "\t<tr><th scope=row>444</th><td>State</td><td>Massachusetts       </td><td>25</td><td>All</td><td>All</td><td>All</td><td>Diabetes</td><td>0.2316</td><td>15742.51</td><td>19033.41</td><td>0.2366</td><td>1092.9398</td><td>non-southern</td></tr>\n",
              "\t<tr><th scope=row>465</th><td>State</td><td>Michigan            </td><td>26</td><td>All</td><td>All</td><td>All</td><td>Diabetes</td><td>0.2818</td><td>16446.74</td><td>17226.80</td><td>0.2276</td><td>1138.9964</td><td>non-southern</td></tr>\n",
              "\t<tr><th scope=row>486</th><td>State</td><td>Minnesota           </td><td>27</td><td>All</td><td>All</td><td>All</td><td>Diabetes</td><td>0.2133</td><td>15106.66</td><td>16754.41</td><td>0.2175</td><td>1131.5317</td><td>non-southern</td></tr>\n",
              "\t<tr><th scope=row>507</th><td>State</td><td>Mississippi         </td><td>28</td><td>All</td><td>All</td><td>All</td><td>Diabetes</td><td>0.3057</td><td>17523.41</td><td>16333.28</td><td>0.2154</td><td>1176.2591</td><td>southern    </td></tr>\n",
              "\t<tr><th scope=row>528</th><td>State</td><td>Missouri            </td><td>29</td><td>All</td><td>All</td><td>All</td><td>Diabetes</td><td>0.2644</td><td>16221.75</td><td>15963.24</td><td>0.2261</td><td>1071.0488</td><td>non-southern</td></tr>\n",
              "\t<tr><th scope=row>548</th><td>State</td><td>Montana             </td><td>30</td><td>All</td><td>All</td><td>All</td><td>Diabetes</td><td>0.1877</td><td>13272.94</td><td>14122.33</td><td>0.1768</td><td> 950.7069</td><td>non-southern</td></tr>\n",
              "\t<tr><th scope=row>568</th><td>State</td><td>Nebraska            </td><td>31</td><td>All</td><td>All</td><td>All</td><td>Diabetes</td><td>0.2306</td><td>15212.90</td><td>15611.83</td><td>0.1930</td><td> 831.0846</td><td>non-southern</td></tr>\n",
              "\t<tr><th scope=row>589</th><td>State</td><td>Nevada              </td><td>32</td><td>All</td><td>All</td><td>All</td><td>Diabetes</td><td>0.2526</td><td>17695.74</td><td>19910.65</td><td>0.2486</td><td>1078.7074</td><td>non-southern</td></tr>\n",
              "\t<tr><th scope=row>610</th><td>State</td><td>New Hampshire       </td><td>33</td><td>All</td><td>All</td><td>All</td><td>Diabetes</td><td>0.2154</td><td>14177.86</td><td>16000.68</td><td>0.2087</td><td>1014.6378</td><td>non-southern</td></tr>\n",
              "\t<tr><th scope=row>630</th><td>State</td><td>New Jersey          </td><td>34</td><td>All</td><td>All</td><td>All</td><td>Diabetes</td><td>0.3120</td><td>16355.42</td><td>19292.06</td><td>0.2220</td><td> 903.5189</td><td>non-southern</td></tr>\n",
              "\t<tr><th scope=row>651</th><td>State</td><td>New Mexico          </td><td>35</td><td>All</td><td>All</td><td>All</td><td>Diabetes</td><td>0.2550</td><td>13435.12</td><td>14058.43</td><td>0.1926</td><td> 979.4391</td><td>non-southern</td></tr>\n",
              "\t<tr><th scope=row>672</th><td>State</td><td>New York            </td><td>36</td><td>All</td><td>All</td><td>All</td><td>Diabetes</td><td>0.3134</td><td>16044.10</td><td>19869.16</td><td>0.2258</td><td> 895.0522</td><td>non-southern</td></tr>\n",
              "\t<tr><th scope=row>693</th><td>State</td><td>North Carolina      </td><td>37</td><td>All</td><td>All</td><td>All</td><td>Diabetes</td><td>0.2853</td><td>14842.80</td><td>15075.94</td><td>0.2119</td><td>1103.7099</td><td>southern    </td></tr>\n",
              "\t<tr><th scope=row>713</th><td>State</td><td>North Dakota        </td><td>38</td><td>All</td><td>All</td><td>All</td><td>Diabetes</td><td>0.2350</td><td>13620.97</td><td>13995.85</td><td>0.1990</td><td> 861.8680</td><td>non-southern</td></tr>\n",
              "\t<tr><th scope=row>733</th><td>State</td><td>Ohio                </td><td>39</td><td>All</td><td>All</td><td>All</td><td>Diabetes</td><td>0.2720</td><td>16494.30</td><td>16605.46</td><td>0.2195</td><td>1101.6491</td><td>non-southern</td></tr>\n",
              "\t<tr><th scope=row>754</th><td>State</td><td>Oklahoma            </td><td>40</td><td>All</td><td>All</td><td>All</td><td>Diabetes</td><td>0.2840</td><td>17493.30</td><td>16889.22</td><td>0.2123</td><td>1135.5593</td><td>southern    </td></tr>\n",
              "\t<tr><th scope=row>775</th><td>State</td><td>Oregon              </td><td>41</td><td>All</td><td>All</td><td>All</td><td>Diabetes</td><td>0.2093</td><td>12918.15</td><td>14604.71</td><td>0.1857</td><td>1000.8307</td><td>non-southern</td></tr>\n",
              "\t<tr><th scope=row>796</th><td>State</td><td>Pennsylvania        </td><td>42</td><td>All</td><td>All</td><td>All</td><td>Diabetes</td><td>0.2585</td><td>16247.21</td><td>17354.18</td><td>0.2210</td><td> 973.8960</td><td>non-southern</td></tr>\n",
              "\t<tr><th scope=row>816</th><td>State</td><td>Rhode Island        </td><td>44</td><td>All</td><td>All</td><td>All</td><td>Diabetes</td><td>0.2444</td><td>14406.31</td><td>16305.05</td><td>0.2322</td><td> 961.8712</td><td>non-southern</td></tr>\n",
              "\t<tr><th scope=row>837</th><td>State</td><td>South Carolina      </td><td>45</td><td>All</td><td>All</td><td>All</td><td>Diabetes</td><td>0.2737</td><td>15046.47</td><td>14738.57</td><td>0.2074</td><td> 967.5885</td><td>southern    </td></tr>\n",
              "\t<tr><th scope=row>857</th><td>State</td><td>South Dakota        </td><td>46</td><td>All</td><td>All</td><td>All</td><td>Diabetes</td><td>0.2265</td><td>14449.82</td><td>14985.84</td><td>0.1888</td><td> 836.5157</td><td>non-southern</td></tr>\n",
              "\t<tr><th scope=row>878</th><td>State</td><td>Tennessee           </td><td>47</td><td>All</td><td>All</td><td>All</td><td>Diabetes</td><td>0.2815</td><td>16044.49</td><td>15147.74</td><td>0.2149</td><td>1013.9265</td><td>southern    </td></tr>\n",
              "\t<tr><th scope=row>899</th><td>State</td><td>Texas               </td><td>48</td><td>All</td><td>All</td><td>All</td><td>Diabetes</td><td>0.2879</td><td>19678.66</td><td>19769.53</td><td>0.2205</td><td>1088.6429</td><td>southern    </td></tr>\n",
              "\t<tr><th scope=row>919</th><td>State</td><td>Utah                </td><td>49</td><td>All</td><td>All</td><td>All</td><td>Diabetes</td><td>0.2381</td><td>14120.76</td><td>14451.39</td><td>0.1602</td><td> 812.0574</td><td>non-southern</td></tr>\n",
              "\t<tr><th scope=row>939</th><td>State</td><td>Vermont             </td><td>50</td><td>All</td><td>All</td><td>All</td><td>Diabetes</td><td>0.2001</td><td>12778.41</td><td>15296.28</td><td>0.1971</td><td>1110.4859</td><td>non-southern</td></tr>\n",
              "\t<tr><th scope=row>959</th><td>State</td><td>Virginia            </td><td>51</td><td>All</td><td>All</td><td>All</td><td>Diabetes</td><td>0.2744</td><td>14622.33</td><td>14881.68</td><td>0.2100</td><td>1043.6821</td><td>southern    </td></tr>\n",
              "\t<tr><th scope=row>980</th><td>State</td><td>Washington          </td><td>53</td><td>All</td><td>All</td><td>All</td><td>Diabetes</td><td>0.2177</td><td>13415.61</td><td>14963.98</td><td>0.1967</td><td> 983.9392</td><td>non-southern</td></tr>\n",
              "\t<tr><th scope=row>1001</th><td>State</td><td>West Virginia       </td><td>54</td><td>All</td><td>All</td><td>All</td><td>Diabetes</td><td>0.3058</td><td>15566.32</td><td>15349.86</td><td>0.2322</td><td>1218.9660</td><td>southern    </td></tr>\n",
              "\t<tr><th scope=row>1022</th><td>State</td><td>Wisconsin           </td><td>55</td><td>All</td><td>All</td><td>All</td><td>Diabetes</td><td>0.2284</td><td>14246.49</td><td>14885.05</td><td>0.2020</td><td>1029.1171</td><td>non-southern</td></tr>\n",
              "\t<tr><th scope=row>1042</th><td>State</td><td>Wyoming             </td><td>56</td><td>All</td><td>All</td><td>All</td><td>Diabetes</td><td>0.1986</td><td>13430.02</td><td>15203.86</td><td>0.1745</td><td> 952.2263</td><td>non-southern</td></tr>\n",
              "</tbody>\n",
              "</table>\n"
            ],
            "text/markdown": "\nA data.frame: 51 × 13\n\n| <!--/--> | Bene_Geo_Lvl &lt;chr&gt; | Bene_Geo_Desc &lt;chr&gt; | Bene_Geo_Cd &lt;dbl&gt; | Bene_Age_Lvl &lt;chr&gt; | Bene_Demo_Lvl &lt;chr&gt; | Bene_Demo_Desc &lt;chr&gt; | Bene_Cond &lt;chr&gt; | Prvlnc &lt;dbl&gt; | Tot_Mdcr_Stdzd_Pymt_PC &lt;dbl&gt; | Tot_Mdcr_Pymt_PC &lt;dbl&gt; | Hosp_Readmsn_Rate &lt;dbl&gt; | ER_Visits_Per_1000_Benes &lt;dbl&gt; | is_southern &lt;chr&gt; |\n|---|---|---|---|---|---|---|---|---|---|---|---|---|---|\n| 11 | State | Alabama              |  1 | All | All | All | Diabetes | 0.3017 | 16286.63 | 14858.61 | 0.2054 | 1021.1721 | southern     |\n| 31 | State | Alaska               |  2 | All | All | All | Diabetes | 0.2048 | 13185.46 | 17673.46 | 0.1791 |  970.4527 | non-southern |\n| 51 | State | Arizona              |  4 | All | All | All | Diabetes | 0.2274 | 15076.55 | 16070.54 | 0.1986 |  873.5951 | non-southern |\n| 72 | State | Arkansas             |  5 | All | All | All | Diabetes | 0.2572 | 15912.55 | 14837.73 | 0.2131 | 1031.6390 | southern     |\n| 93 | State | California           |  6 | All | All | All | Diabetes | 0.2719 | 16551.50 | 20896.40 | 0.2282 |  978.6757 | non-southern |\n| 114 | State | Colorado             |  8 | All | All | All | Diabetes | 0.1829 | 14794.45 | 15683.52 | 0.1841 |  996.7261 | non-southern |\n| 135 | State | Connecticut          |  9 | All | All | All | Diabetes | 0.2505 | 16672.29 | 19927.77 | 0.2261 | 1156.1202 | non-southern |\n| 156 | State | Delaware             | 10 | All | All | All | Diabetes | 0.2882 | 14546.57 | 16113.02 | 0.2082 |  900.5331 | southern     |\n| 176 | State | District of Columbia | 11 | All | All | All | Diabetes | 0.2881 | 18276.00 | 21865.86 | 0.2619 | 1518.4258 | southern     |\n| 197 | State | Florida              | 12 | All | All | All | Diabetes | 0.2781 | 18419.30 | 18471.69 | 0.2301 | 1012.9013 | southern     |\n| 218 | State | Georgia              | 13 | All | All | All | Diabetes | 0.2788 | 16699.31 | 16478.41 | 0.2233 | 1066.9929 | southern     |\n| 238 | State | Hawaii               | 15 | All | All | All | Diabetes | 0.2709 | 11980.35 | 14394.59 | 0.1758 |  806.7334 | non-southern |\n| 257 | State | Idaho                | 16 | All | All | All | Diabetes | 0.2193 | 13870.31 | 13926.42 | 0.1679 |  951.4655 | non-southern |\n| 277 | State | Illinois             | 17 | All | All | All | Diabetes | 0.2706 | 17112.14 | 18133.20 | 0.2283 | 1051.7994 | non-southern |\n| 298 | State | Indiana              | 18 | All | All | All | Diabetes | 0.2784 | 16204.16 | 16334.34 | 0.2107 | 1076.6306 | non-southern |\n| 319 | State | Iowa                 | 19 | All | All | All | Diabetes | 0.2399 | 13572.88 | 13762.14 | 0.1840 |  934.3215 | non-southern |\n| 340 | State | Kansas               | 20 | All | All | All | Diabetes | 0.2534 | 15705.29 | 15282.91 | 0.1939 |  961.5354 | non-southern |\n| 361 | State | Kentucky             | 21 | All | All | All | Diabetes | 0.2934 | 15748.22 | 15306.11 | 0.2237 | 1140.9786 | southern     |\n| 382 | State | Louisiana            | 22 | All | All | All | Diabetes | 0.2996 | 19036.25 | 18128.64 | 0.2184 | 1210.1268 | southern     |\n| 403 | State | Maine                | 23 | All | All | All | Diabetes | 0.2255 | 14223.63 | 14893.57 | 0.2024 | 1197.1466 | non-southern |\n| 423 | State | Maryland             | 24 | All | All | All | Diabetes | 0.2957 | 15515.59 | 19202.04 | 0.2352 |  989.2759 | southern     |\n| 444 | State | Massachusetts        | 25 | All | All | All | Diabetes | 0.2316 | 15742.51 | 19033.41 | 0.2366 | 1092.9398 | non-southern |\n| 465 | State | Michigan             | 26 | All | All | All | Diabetes | 0.2818 | 16446.74 | 17226.80 | 0.2276 | 1138.9964 | non-southern |\n| 486 | State | Minnesota            | 27 | All | All | All | Diabetes | 0.2133 | 15106.66 | 16754.41 | 0.2175 | 1131.5317 | non-southern |\n| 507 | State | Mississippi          | 28 | All | All | All | Diabetes | 0.3057 | 17523.41 | 16333.28 | 0.2154 | 1176.2591 | southern     |\n| 528 | State | Missouri             | 29 | All | All | All | Diabetes | 0.2644 | 16221.75 | 15963.24 | 0.2261 | 1071.0488 | non-southern |\n| 548 | State | Montana              | 30 | All | All | All | Diabetes | 0.1877 | 13272.94 | 14122.33 | 0.1768 |  950.7069 | non-southern |\n| 568 | State | Nebraska             | 31 | All | All | All | Diabetes | 0.2306 | 15212.90 | 15611.83 | 0.1930 |  831.0846 | non-southern |\n| 589 | State | Nevada               | 32 | All | All | All | Diabetes | 0.2526 | 17695.74 | 19910.65 | 0.2486 | 1078.7074 | non-southern |\n| 610 | State | New Hampshire        | 33 | All | All | All | Diabetes | 0.2154 | 14177.86 | 16000.68 | 0.2087 | 1014.6378 | non-southern |\n| 630 | State | New Jersey           | 34 | All | All | All | Diabetes | 0.3120 | 16355.42 | 19292.06 | 0.2220 |  903.5189 | non-southern |\n| 651 | State | New Mexico           | 35 | All | All | All | Diabetes | 0.2550 | 13435.12 | 14058.43 | 0.1926 |  979.4391 | non-southern |\n| 672 | State | New York             | 36 | All | All | All | Diabetes | 0.3134 | 16044.10 | 19869.16 | 0.2258 |  895.0522 | non-southern |\n| 693 | State | North Carolina       | 37 | All | All | All | Diabetes | 0.2853 | 14842.80 | 15075.94 | 0.2119 | 1103.7099 | southern     |\n| 713 | State | North Dakota         | 38 | All | All | All | Diabetes | 0.2350 | 13620.97 | 13995.85 | 0.1990 |  861.8680 | non-southern |\n| 733 | State | Ohio                 | 39 | All | All | All | Diabetes | 0.2720 | 16494.30 | 16605.46 | 0.2195 | 1101.6491 | non-southern |\n| 754 | State | Oklahoma             | 40 | All | All | All | Diabetes | 0.2840 | 17493.30 | 16889.22 | 0.2123 | 1135.5593 | southern     |\n| 775 | State | Oregon               | 41 | All | All | All | Diabetes | 0.2093 | 12918.15 | 14604.71 | 0.1857 | 1000.8307 | non-southern |\n| 796 | State | Pennsylvania         | 42 | All | All | All | Diabetes | 0.2585 | 16247.21 | 17354.18 | 0.2210 |  973.8960 | non-southern |\n| 816 | State | Rhode Island         | 44 | All | All | All | Diabetes | 0.2444 | 14406.31 | 16305.05 | 0.2322 |  961.8712 | non-southern |\n| 837 | State | South Carolina       | 45 | All | All | All | Diabetes | 0.2737 | 15046.47 | 14738.57 | 0.2074 |  967.5885 | southern     |\n| 857 | State | South Dakota         | 46 | All | All | All | Diabetes | 0.2265 | 14449.82 | 14985.84 | 0.1888 |  836.5157 | non-southern |\n| 878 | State | Tennessee            | 47 | All | All | All | Diabetes | 0.2815 | 16044.49 | 15147.74 | 0.2149 | 1013.9265 | southern     |\n| 899 | State | Texas                | 48 | All | All | All | Diabetes | 0.2879 | 19678.66 | 19769.53 | 0.2205 | 1088.6429 | southern     |\n| 919 | State | Utah                 | 49 | All | All | All | Diabetes | 0.2381 | 14120.76 | 14451.39 | 0.1602 |  812.0574 | non-southern |\n| 939 | State | Vermont              | 50 | All | All | All | Diabetes | 0.2001 | 12778.41 | 15296.28 | 0.1971 | 1110.4859 | non-southern |\n| 959 | State | Virginia             | 51 | All | All | All | Diabetes | 0.2744 | 14622.33 | 14881.68 | 0.2100 | 1043.6821 | southern     |\n| 980 | State | Washington           | 53 | All | All | All | Diabetes | 0.2177 | 13415.61 | 14963.98 | 0.1967 |  983.9392 | non-southern |\n| 1001 | State | West Virginia        | 54 | All | All | All | Diabetes | 0.3058 | 15566.32 | 15349.86 | 0.2322 | 1218.9660 | southern     |\n| 1022 | State | Wisconsin            | 55 | All | All | All | Diabetes | 0.2284 | 14246.49 | 14885.05 | 0.2020 | 1029.1171 | non-southern |\n| 1042 | State | Wyoming              | 56 | All | All | All | Diabetes | 0.1986 | 13430.02 | 15203.86 | 0.1745 |  952.2263 | non-southern |\n\n",
            "text/latex": "A data.frame: 51 × 13\n\\begin{tabular}{r|lllllllllllll}\n  & Bene\\_Geo\\_Lvl & Bene\\_Geo\\_Desc & Bene\\_Geo\\_Cd & Bene\\_Age\\_Lvl & Bene\\_Demo\\_Lvl & Bene\\_Demo\\_Desc & Bene\\_Cond & Prvlnc & Tot\\_Mdcr\\_Stdzd\\_Pymt\\_PC & Tot\\_Mdcr\\_Pymt\\_PC & Hosp\\_Readmsn\\_Rate & ER\\_Visits\\_Per\\_1000\\_Benes & is\\_southern\\\\\n  & <chr> & <chr> & <dbl> & <chr> & <chr> & <chr> & <chr> & <dbl> & <dbl> & <dbl> & <dbl> & <dbl> & <chr>\\\\\n\\hline\n\t11 & State & Alabama              &  1 & All & All & All & Diabetes & 0.3017 & 16286.63 & 14858.61 & 0.2054 & 1021.1721 & southern    \\\\\n\t31 & State & Alaska               &  2 & All & All & All & Diabetes & 0.2048 & 13185.46 & 17673.46 & 0.1791 &  970.4527 & non-southern\\\\\n\t51 & State & Arizona              &  4 & All & All & All & Diabetes & 0.2274 & 15076.55 & 16070.54 & 0.1986 &  873.5951 & non-southern\\\\\n\t72 & State & Arkansas             &  5 & All & All & All & Diabetes & 0.2572 & 15912.55 & 14837.73 & 0.2131 & 1031.6390 & southern    \\\\\n\t93 & State & California           &  6 & All & All & All & Diabetes & 0.2719 & 16551.50 & 20896.40 & 0.2282 &  978.6757 & non-southern\\\\\n\t114 & State & Colorado             &  8 & All & All & All & Diabetes & 0.1829 & 14794.45 & 15683.52 & 0.1841 &  996.7261 & non-southern\\\\\n\t135 & State & Connecticut          &  9 & All & All & All & Diabetes & 0.2505 & 16672.29 & 19927.77 & 0.2261 & 1156.1202 & non-southern\\\\\n\t156 & State & Delaware             & 10 & All & All & All & Diabetes & 0.2882 & 14546.57 & 16113.02 & 0.2082 &  900.5331 & southern    \\\\\n\t176 & State & District of Columbia & 11 & All & All & All & Diabetes & 0.2881 & 18276.00 & 21865.86 & 0.2619 & 1518.4258 & southern    \\\\\n\t197 & State & Florida              & 12 & All & All & All & Diabetes & 0.2781 & 18419.30 & 18471.69 & 0.2301 & 1012.9013 & southern    \\\\\n\t218 & State & Georgia              & 13 & All & All & All & Diabetes & 0.2788 & 16699.31 & 16478.41 & 0.2233 & 1066.9929 & southern    \\\\\n\t238 & State & Hawaii               & 15 & All & All & All & Diabetes & 0.2709 & 11980.35 & 14394.59 & 0.1758 &  806.7334 & non-southern\\\\\n\t257 & State & Idaho                & 16 & All & All & All & Diabetes & 0.2193 & 13870.31 & 13926.42 & 0.1679 &  951.4655 & non-southern\\\\\n\t277 & State & Illinois             & 17 & All & All & All & Diabetes & 0.2706 & 17112.14 & 18133.20 & 0.2283 & 1051.7994 & non-southern\\\\\n\t298 & State & Indiana              & 18 & All & All & All & Diabetes & 0.2784 & 16204.16 & 16334.34 & 0.2107 & 1076.6306 & non-southern\\\\\n\t319 & State & Iowa                 & 19 & All & All & All & Diabetes & 0.2399 & 13572.88 & 13762.14 & 0.1840 &  934.3215 & non-southern\\\\\n\t340 & State & Kansas               & 20 & All & All & All & Diabetes & 0.2534 & 15705.29 & 15282.91 & 0.1939 &  961.5354 & non-southern\\\\\n\t361 & State & Kentucky             & 21 & All & All & All & Diabetes & 0.2934 & 15748.22 & 15306.11 & 0.2237 & 1140.9786 & southern    \\\\\n\t382 & State & Louisiana            & 22 & All & All & All & Diabetes & 0.2996 & 19036.25 & 18128.64 & 0.2184 & 1210.1268 & southern    \\\\\n\t403 & State & Maine                & 23 & All & All & All & Diabetes & 0.2255 & 14223.63 & 14893.57 & 0.2024 & 1197.1466 & non-southern\\\\\n\t423 & State & Maryland             & 24 & All & All & All & Diabetes & 0.2957 & 15515.59 & 19202.04 & 0.2352 &  989.2759 & southern    \\\\\n\t444 & State & Massachusetts        & 25 & All & All & All & Diabetes & 0.2316 & 15742.51 & 19033.41 & 0.2366 & 1092.9398 & non-southern\\\\\n\t465 & State & Michigan             & 26 & All & All & All & Diabetes & 0.2818 & 16446.74 & 17226.80 & 0.2276 & 1138.9964 & non-southern\\\\\n\t486 & State & Minnesota            & 27 & All & All & All & Diabetes & 0.2133 & 15106.66 & 16754.41 & 0.2175 & 1131.5317 & non-southern\\\\\n\t507 & State & Mississippi          & 28 & All & All & All & Diabetes & 0.3057 & 17523.41 & 16333.28 & 0.2154 & 1176.2591 & southern    \\\\\n\t528 & State & Missouri             & 29 & All & All & All & Diabetes & 0.2644 & 16221.75 & 15963.24 & 0.2261 & 1071.0488 & non-southern\\\\\n\t548 & State & Montana              & 30 & All & All & All & Diabetes & 0.1877 & 13272.94 & 14122.33 & 0.1768 &  950.7069 & non-southern\\\\\n\t568 & State & Nebraska             & 31 & All & All & All & Diabetes & 0.2306 & 15212.90 & 15611.83 & 0.1930 &  831.0846 & non-southern\\\\\n\t589 & State & Nevada               & 32 & All & All & All & Diabetes & 0.2526 & 17695.74 & 19910.65 & 0.2486 & 1078.7074 & non-southern\\\\\n\t610 & State & New Hampshire        & 33 & All & All & All & Diabetes & 0.2154 & 14177.86 & 16000.68 & 0.2087 & 1014.6378 & non-southern\\\\\n\t630 & State & New Jersey           & 34 & All & All & All & Diabetes & 0.3120 & 16355.42 & 19292.06 & 0.2220 &  903.5189 & non-southern\\\\\n\t651 & State & New Mexico           & 35 & All & All & All & Diabetes & 0.2550 & 13435.12 & 14058.43 & 0.1926 &  979.4391 & non-southern\\\\\n\t672 & State & New York             & 36 & All & All & All & Diabetes & 0.3134 & 16044.10 & 19869.16 & 0.2258 &  895.0522 & non-southern\\\\\n\t693 & State & North Carolina       & 37 & All & All & All & Diabetes & 0.2853 & 14842.80 & 15075.94 & 0.2119 & 1103.7099 & southern    \\\\\n\t713 & State & North Dakota         & 38 & All & All & All & Diabetes & 0.2350 & 13620.97 & 13995.85 & 0.1990 &  861.8680 & non-southern\\\\\n\t733 & State & Ohio                 & 39 & All & All & All & Diabetes & 0.2720 & 16494.30 & 16605.46 & 0.2195 & 1101.6491 & non-southern\\\\\n\t754 & State & Oklahoma             & 40 & All & All & All & Diabetes & 0.2840 & 17493.30 & 16889.22 & 0.2123 & 1135.5593 & southern    \\\\\n\t775 & State & Oregon               & 41 & All & All & All & Diabetes & 0.2093 & 12918.15 & 14604.71 & 0.1857 & 1000.8307 & non-southern\\\\\n\t796 & State & Pennsylvania         & 42 & All & All & All & Diabetes & 0.2585 & 16247.21 & 17354.18 & 0.2210 &  973.8960 & non-southern\\\\\n\t816 & State & Rhode Island         & 44 & All & All & All & Diabetes & 0.2444 & 14406.31 & 16305.05 & 0.2322 &  961.8712 & non-southern\\\\\n\t837 & State & South Carolina       & 45 & All & All & All & Diabetes & 0.2737 & 15046.47 & 14738.57 & 0.2074 &  967.5885 & southern    \\\\\n\t857 & State & South Dakota         & 46 & All & All & All & Diabetes & 0.2265 & 14449.82 & 14985.84 & 0.1888 &  836.5157 & non-southern\\\\\n\t878 & State & Tennessee            & 47 & All & All & All & Diabetes & 0.2815 & 16044.49 & 15147.74 & 0.2149 & 1013.9265 & southern    \\\\\n\t899 & State & Texas                & 48 & All & All & All & Diabetes & 0.2879 & 19678.66 & 19769.53 & 0.2205 & 1088.6429 & southern    \\\\\n\t919 & State & Utah                 & 49 & All & All & All & Diabetes & 0.2381 & 14120.76 & 14451.39 & 0.1602 &  812.0574 & non-southern\\\\\n\t939 & State & Vermont              & 50 & All & All & All & Diabetes & 0.2001 & 12778.41 & 15296.28 & 0.1971 & 1110.4859 & non-southern\\\\\n\t959 & State & Virginia             & 51 & All & All & All & Diabetes & 0.2744 & 14622.33 & 14881.68 & 0.2100 & 1043.6821 & southern    \\\\\n\t980 & State & Washington           & 53 & All & All & All & Diabetes & 0.2177 & 13415.61 & 14963.98 & 0.1967 &  983.9392 & non-southern\\\\\n\t1001 & State & West Virginia        & 54 & All & All & All & Diabetes & 0.3058 & 15566.32 & 15349.86 & 0.2322 & 1218.9660 & southern    \\\\\n\t1022 & State & Wisconsin            & 55 & All & All & All & Diabetes & 0.2284 & 14246.49 & 14885.05 & 0.2020 & 1029.1171 & non-southern\\\\\n\t1042 & State & Wyoming              & 56 & All & All & All & Diabetes & 0.1986 & 13430.02 & 15203.86 & 0.1745 &  952.2263 & non-southern\\\\\n\\end{tabular}\n",
            "text/plain": [
              "     Bene_Geo_Lvl Bene_Geo_Desc        Bene_Geo_Cd Bene_Age_Lvl Bene_Demo_Lvl\n",
              "11   State        Alabama               1          All          All          \n",
              "31   State        Alaska                2          All          All          \n",
              "51   State        Arizona               4          All          All          \n",
              "72   State        Arkansas              5          All          All          \n",
              "93   State        California            6          All          All          \n",
              "114  State        Colorado              8          All          All          \n",
              "135  State        Connecticut           9          All          All          \n",
              "156  State        Delaware             10          All          All          \n",
              "176  State        District of Columbia 11          All          All          \n",
              "197  State        Florida              12          All          All          \n",
              "218  State        Georgia              13          All          All          \n",
              "238  State        Hawaii               15          All          All          \n",
              "257  State        Idaho                16          All          All          \n",
              "277  State        Illinois             17          All          All          \n",
              "298  State        Indiana              18          All          All          \n",
              "319  State        Iowa                 19          All          All          \n",
              "340  State        Kansas               20          All          All          \n",
              "361  State        Kentucky             21          All          All          \n",
              "382  State        Louisiana            22          All          All          \n",
              "403  State        Maine                23          All          All          \n",
              "423  State        Maryland             24          All          All          \n",
              "444  State        Massachusetts        25          All          All          \n",
              "465  State        Michigan             26          All          All          \n",
              "486  State        Minnesota            27          All          All          \n",
              "507  State        Mississippi          28          All          All          \n",
              "528  State        Missouri             29          All          All          \n",
              "548  State        Montana              30          All          All          \n",
              "568  State        Nebraska             31          All          All          \n",
              "589  State        Nevada               32          All          All          \n",
              "610  State        New Hampshire        33          All          All          \n",
              "630  State        New Jersey           34          All          All          \n",
              "651  State        New Mexico           35          All          All          \n",
              "672  State        New York             36          All          All          \n",
              "693  State        North Carolina       37          All          All          \n",
              "713  State        North Dakota         38          All          All          \n",
              "733  State        Ohio                 39          All          All          \n",
              "754  State        Oklahoma             40          All          All          \n",
              "775  State        Oregon               41          All          All          \n",
              "796  State        Pennsylvania         42          All          All          \n",
              "816  State        Rhode Island         44          All          All          \n",
              "837  State        South Carolina       45          All          All          \n",
              "857  State        South Dakota         46          All          All          \n",
              "878  State        Tennessee            47          All          All          \n",
              "899  State        Texas                48          All          All          \n",
              "919  State        Utah                 49          All          All          \n",
              "939  State        Vermont              50          All          All          \n",
              "959  State        Virginia             51          All          All          \n",
              "980  State        Washington           53          All          All          \n",
              "1001 State        West Virginia        54          All          All          \n",
              "1022 State        Wisconsin            55          All          All          \n",
              "1042 State        Wyoming              56          All          All          \n",
              "     Bene_Demo_Desc Bene_Cond Prvlnc Tot_Mdcr_Stdzd_Pymt_PC Tot_Mdcr_Pymt_PC\n",
              "11   All            Diabetes  0.3017 16286.63               14858.61        \n",
              "31   All            Diabetes  0.2048 13185.46               17673.46        \n",
              "51   All            Diabetes  0.2274 15076.55               16070.54        \n",
              "72   All            Diabetes  0.2572 15912.55               14837.73        \n",
              "93   All            Diabetes  0.2719 16551.50               20896.40        \n",
              "114  All            Diabetes  0.1829 14794.45               15683.52        \n",
              "135  All            Diabetes  0.2505 16672.29               19927.77        \n",
              "156  All            Diabetes  0.2882 14546.57               16113.02        \n",
              "176  All            Diabetes  0.2881 18276.00               21865.86        \n",
              "197  All            Diabetes  0.2781 18419.30               18471.69        \n",
              "218  All            Diabetes  0.2788 16699.31               16478.41        \n",
              "238  All            Diabetes  0.2709 11980.35               14394.59        \n",
              "257  All            Diabetes  0.2193 13870.31               13926.42        \n",
              "277  All            Diabetes  0.2706 17112.14               18133.20        \n",
              "298  All            Diabetes  0.2784 16204.16               16334.34        \n",
              "319  All            Diabetes  0.2399 13572.88               13762.14        \n",
              "340  All            Diabetes  0.2534 15705.29               15282.91        \n",
              "361  All            Diabetes  0.2934 15748.22               15306.11        \n",
              "382  All            Diabetes  0.2996 19036.25               18128.64        \n",
              "403  All            Diabetes  0.2255 14223.63               14893.57        \n",
              "423  All            Diabetes  0.2957 15515.59               19202.04        \n",
              "444  All            Diabetes  0.2316 15742.51               19033.41        \n",
              "465  All            Diabetes  0.2818 16446.74               17226.80        \n",
              "486  All            Diabetes  0.2133 15106.66               16754.41        \n",
              "507  All            Diabetes  0.3057 17523.41               16333.28        \n",
              "528  All            Diabetes  0.2644 16221.75               15963.24        \n",
              "548  All            Diabetes  0.1877 13272.94               14122.33        \n",
              "568  All            Diabetes  0.2306 15212.90               15611.83        \n",
              "589  All            Diabetes  0.2526 17695.74               19910.65        \n",
              "610  All            Diabetes  0.2154 14177.86               16000.68        \n",
              "630  All            Diabetes  0.3120 16355.42               19292.06        \n",
              "651  All            Diabetes  0.2550 13435.12               14058.43        \n",
              "672  All            Diabetes  0.3134 16044.10               19869.16        \n",
              "693  All            Diabetes  0.2853 14842.80               15075.94        \n",
              "713  All            Diabetes  0.2350 13620.97               13995.85        \n",
              "733  All            Diabetes  0.2720 16494.30               16605.46        \n",
              "754  All            Diabetes  0.2840 17493.30               16889.22        \n",
              "775  All            Diabetes  0.2093 12918.15               14604.71        \n",
              "796  All            Diabetes  0.2585 16247.21               17354.18        \n",
              "816  All            Diabetes  0.2444 14406.31               16305.05        \n",
              "837  All            Diabetes  0.2737 15046.47               14738.57        \n",
              "857  All            Diabetes  0.2265 14449.82               14985.84        \n",
              "878  All            Diabetes  0.2815 16044.49               15147.74        \n",
              "899  All            Diabetes  0.2879 19678.66               19769.53        \n",
              "919  All            Diabetes  0.2381 14120.76               14451.39        \n",
              "939  All            Diabetes  0.2001 12778.41               15296.28        \n",
              "959  All            Diabetes  0.2744 14622.33               14881.68        \n",
              "980  All            Diabetes  0.2177 13415.61               14963.98        \n",
              "1001 All            Diabetes  0.3058 15566.32               15349.86        \n",
              "1022 All            Diabetes  0.2284 14246.49               14885.05        \n",
              "1042 All            Diabetes  0.1986 13430.02               15203.86        \n",
              "     Hosp_Readmsn_Rate ER_Visits_Per_1000_Benes is_southern \n",
              "11   0.2054            1021.1721                southern    \n",
              "31   0.1791             970.4527                non-southern\n",
              "51   0.1986             873.5951                non-southern\n",
              "72   0.2131            1031.6390                southern    \n",
              "93   0.2282             978.6757                non-southern\n",
              "114  0.1841             996.7261                non-southern\n",
              "135  0.2261            1156.1202                non-southern\n",
              "156  0.2082             900.5331                southern    \n",
              "176  0.2619            1518.4258                southern    \n",
              "197  0.2301            1012.9013                southern    \n",
              "218  0.2233            1066.9929                southern    \n",
              "238  0.1758             806.7334                non-southern\n",
              "257  0.1679             951.4655                non-southern\n",
              "277  0.2283            1051.7994                non-southern\n",
              "298  0.2107            1076.6306                non-southern\n",
              "319  0.1840             934.3215                non-southern\n",
              "340  0.1939             961.5354                non-southern\n",
              "361  0.2237            1140.9786                southern    \n",
              "382  0.2184            1210.1268                southern    \n",
              "403  0.2024            1197.1466                non-southern\n",
              "423  0.2352             989.2759                southern    \n",
              "444  0.2366            1092.9398                non-southern\n",
              "465  0.2276            1138.9964                non-southern\n",
              "486  0.2175            1131.5317                non-southern\n",
              "507  0.2154            1176.2591                southern    \n",
              "528  0.2261            1071.0488                non-southern\n",
              "548  0.1768             950.7069                non-southern\n",
              "568  0.1930             831.0846                non-southern\n",
              "589  0.2486            1078.7074                non-southern\n",
              "610  0.2087            1014.6378                non-southern\n",
              "630  0.2220             903.5189                non-southern\n",
              "651  0.1926             979.4391                non-southern\n",
              "672  0.2258             895.0522                non-southern\n",
              "693  0.2119            1103.7099                southern    \n",
              "713  0.1990             861.8680                non-southern\n",
              "733  0.2195            1101.6491                non-southern\n",
              "754  0.2123            1135.5593                southern    \n",
              "775  0.1857            1000.8307                non-southern\n",
              "796  0.2210             973.8960                non-southern\n",
              "816  0.2322             961.8712                non-southern\n",
              "837  0.2074             967.5885                southern    \n",
              "857  0.1888             836.5157                non-southern\n",
              "878  0.2149            1013.9265                southern    \n",
              "899  0.2205            1088.6429                southern    \n",
              "919  0.1602             812.0574                non-southern\n",
              "939  0.1971            1110.4859                non-southern\n",
              "959  0.2100            1043.6821                southern    \n",
              "980  0.1967             983.9392                non-southern\n",
              "1001 0.2322            1218.9660                southern    \n",
              "1022 0.2020            1029.1171                non-southern\n",
              "1042 0.1745             952.2263                non-southern"
            ]
          },
          "metadata": {}
        }
      ]
    },
    {
      "cell_type": "code",
      "source": [
        "southern_data <- subset(diabetes_data, is_southern == 'southern')$Prvlnc\n",
        "non_southern_data <- subset(diabetes_data, is_southern == 'non-southern')$Prvlnc"
      ],
      "metadata": {
        "id": "F8cYVQ4TO9Jt"
      },
      "execution_count": 22,
      "outputs": []
    },
    {
      "cell_type": "code",
      "source": [
        "southern_data"
      ],
      "metadata": {
        "colab": {
          "base_uri": "https://localhost:8080/",
          "height": 52
        },
        "id": "IkDtnKt2PDAc",
        "outputId": "88fdde27-0d77-4ce0-e99b-6157b2e6f2ea"
      },
      "execution_count": 23,
      "outputs": [
        {
          "output_type": "display_data",
          "data": {
            "text/html": [
              "<style>\n",
              ".list-inline {list-style: none; margin:0; padding: 0}\n",
              ".list-inline>li {display: inline-block}\n",
              ".list-inline>li:not(:last-child)::after {content: \"\\00b7\"; padding: 0 .5ex}\n",
              "</style>\n",
              "<ol class=list-inline><li>0.3017</li><li>0.2572</li><li>0.2882</li><li>0.2881</li><li>0.2781</li><li>0.2788</li><li>0.2934</li><li>0.2996</li><li>0.2957</li><li>0.3057</li><li>0.2853</li><li>0.284</li><li>0.2737</li><li>0.2815</li><li>0.2879</li><li>0.2744</li><li>0.3058</li></ol>\n"
            ],
            "text/markdown": "1. 0.3017\n2. 0.2572\n3. 0.2882\n4. 0.2881\n5. 0.2781\n6. 0.2788\n7. 0.2934\n8. 0.2996\n9. 0.2957\n10. 0.3057\n11. 0.2853\n12. 0.284\n13. 0.2737\n14. 0.2815\n15. 0.2879\n16. 0.2744\n17. 0.3058\n\n\n",
            "text/latex": "\\begin{enumerate*}\n\\item 0.3017\n\\item 0.2572\n\\item 0.2882\n\\item 0.2881\n\\item 0.2781\n\\item 0.2788\n\\item 0.2934\n\\item 0.2996\n\\item 0.2957\n\\item 0.3057\n\\item 0.2853\n\\item 0.284\n\\item 0.2737\n\\item 0.2815\n\\item 0.2879\n\\item 0.2744\n\\item 0.3058\n\\end{enumerate*}\n",
            "text/plain": [
              " [1] 0.3017 0.2572 0.2882 0.2881 0.2781 0.2788 0.2934 0.2996 0.2957 0.3057\n",
              "[11] 0.2853 0.2840 0.2737 0.2815 0.2879 0.2744 0.3058"
            ]
          },
          "metadata": {}
        }
      ]
    },
    {
      "cell_type": "code",
      "source": [
        "non_southern_data"
      ],
      "metadata": {
        "colab": {
          "base_uri": "https://localhost:8080/",
          "height": 69
        },
        "id": "JvMle36lPKU6",
        "outputId": "cc2e286d-0dfb-4d48-cbfb-0e384760de6d"
      },
      "execution_count": 24,
      "outputs": [
        {
          "output_type": "display_data",
          "data": {
            "text/html": [
              "<style>\n",
              ".list-inline {list-style: none; margin:0; padding: 0}\n",
              ".list-inline>li {display: inline-block}\n",
              ".list-inline>li:not(:last-child)::after {content: \"\\00b7\"; padding: 0 .5ex}\n",
              "</style>\n",
              "<ol class=list-inline><li>0.2048</li><li>0.2274</li><li>0.2719</li><li>0.1829</li><li>0.2505</li><li>0.2709</li><li>0.2193</li><li>0.2706</li><li>0.2784</li><li>0.2399</li><li>0.2534</li><li>0.2255</li><li>0.2316</li><li>0.2818</li><li>0.2133</li><li>0.2644</li><li>0.1877</li><li>0.2306</li><li>0.2526</li><li>0.2154</li><li>0.312</li><li>0.255</li><li>0.3134</li><li>0.235</li><li>0.272</li><li>0.2093</li><li>0.2585</li><li>0.2444</li><li>0.2265</li><li>0.2381</li><li>0.2001</li><li>0.2177</li><li>0.2284</li><li>0.1986</li></ol>\n"
            ],
            "text/markdown": "1. 0.2048\n2. 0.2274\n3. 0.2719\n4. 0.1829\n5. 0.2505\n6. 0.2709\n7. 0.2193\n8. 0.2706\n9. 0.2784\n10. 0.2399\n11. 0.2534\n12. 0.2255\n13. 0.2316\n14. 0.2818\n15. 0.2133\n16. 0.2644\n17. 0.1877\n18. 0.2306\n19. 0.2526\n20. 0.2154\n21. 0.312\n22. 0.255\n23. 0.3134\n24. 0.235\n25. 0.272\n26. 0.2093\n27. 0.2585\n28. 0.2444\n29. 0.2265\n30. 0.2381\n31. 0.2001\n32. 0.2177\n33. 0.2284\n34. 0.1986\n\n\n",
            "text/latex": "\\begin{enumerate*}\n\\item 0.2048\n\\item 0.2274\n\\item 0.2719\n\\item 0.1829\n\\item 0.2505\n\\item 0.2709\n\\item 0.2193\n\\item 0.2706\n\\item 0.2784\n\\item 0.2399\n\\item 0.2534\n\\item 0.2255\n\\item 0.2316\n\\item 0.2818\n\\item 0.2133\n\\item 0.2644\n\\item 0.1877\n\\item 0.2306\n\\item 0.2526\n\\item 0.2154\n\\item 0.312\n\\item 0.255\n\\item 0.3134\n\\item 0.235\n\\item 0.272\n\\item 0.2093\n\\item 0.2585\n\\item 0.2444\n\\item 0.2265\n\\item 0.2381\n\\item 0.2001\n\\item 0.2177\n\\item 0.2284\n\\item 0.1986\n\\end{enumerate*}\n",
            "text/plain": [
              " [1] 0.2048 0.2274 0.2719 0.1829 0.2505 0.2709 0.2193 0.2706 0.2784 0.2399\n",
              "[11] 0.2534 0.2255 0.2316 0.2818 0.2133 0.2644 0.1877 0.2306 0.2526 0.2154\n",
              "[21] 0.3120 0.2550 0.3134 0.2350 0.2720 0.2093 0.2585 0.2444 0.2265 0.2381\n",
              "[31] 0.2001 0.2177 0.2284 0.1986"
            ]
          },
          "metadata": {}
        }
      ]
    },
    {
      "cell_type": "code",
      "source": [
        "t.test(southern_data, non_southern_data)"
      ],
      "metadata": {
        "colab": {
          "base_uri": "https://localhost:8080/",
          "height": 213
        },
        "id": "AjJczr1_PMAf",
        "outputId": "01074909-aee7-46a1-81a9-7010ac7aa33e"
      },
      "execution_count": 25,
      "outputs": [
        {
          "output_type": "display_data",
          "data": {
            "text/plain": [
              "\n",
              "\tWelch Two Sample t-test\n",
              "\n",
              "data:  southern_data and non_southern_data\n",
              "t = 7.3443, df = 47.416, p-value = 2.341e-09\n",
              "alternative hypothesis: true difference in means is not equal to 0\n",
              "95 percent confidence interval:\n",
              " 0.03366536 0.05905817\n",
              "sample estimates:\n",
              "mean of x mean of y \n",
              "0.2870059 0.2406441 \n"
            ]
          },
          "metadata": {}
        }
      ]
    },
    {
      "cell_type": "markdown",
      "source": [
        "# **ANOVA**"
      ],
      "metadata": {
        "id": "VIHhw_YjPqw5"
      }
    },
    {
      "cell_type": "code",
      "source": [],
      "metadata": {
        "id": "Eyu8BvD9Pt2Y"
      },
      "execution_count": null,
      "outputs": []
    }
  ]
}