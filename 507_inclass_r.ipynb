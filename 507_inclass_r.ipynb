{
  "nbformat": 4,
  "nbformat_minor": 0,
  "metadata": {
    "colab": {
      "provenance": [],
      "authorship_tag": "ABX9TyPUxe/4wcEc4lEgjFmyNCOZ",
      "include_colab_link": true
    },
    "kernelspec": {
      "name": "ir",
      "display_name": "R"
    },
    "language_info": {
      "name": "R"
    }
  },
  "cells": [
    {
      "cell_type": "markdown",
      "metadata": {
        "id": "view-in-github",
        "colab_type": "text"
      },
      "source": [
        "<a href=\"https://colab.research.google.com/github/amnasyed1/507_inclass_inferential/blob/main/507_inclass_r.ipynb\" target=\"_parent\"><img src=\"https://colab.research.google.com/assets/colab-badge.svg\" alt=\"Open In Colab\"/></a>"
      ]
    },
    {
      "cell_type": "code",
      "execution_count": 14,
      "metadata": {
        "id": "PQltAO9lBgsu"
      },
      "outputs": [],
      "source": [
        "df <- read.csv('cms_orders.csv')\n"
      ]
    },
    {
      "cell_type": "code",
      "source": [
        "contingency = table(df$PARTB, df$HHA)\n",
        "contingency"
      ],
      "metadata": {
        "colab": {
          "base_uri": "https://localhost:8080/",
          "height": 106
        },
        "id": "5RTdPzOkCxgu",
        "outputId": "6849c2e3-da82-491b-ec63-93afc16c03d3"
      },
      "execution_count": 12,
      "outputs": [
        {
          "output_type": "display_data",
          "data": {
            "text/plain": [
              "   \n",
              "                  N       Y\n",
              "          1       0       0\n",
              "  N       0   47233     158\n",
              "  Y       0  127086 1363612"
            ]
          },
          "metadata": {}
        }
      ]
    },
    {
      "cell_type": "code",
      "source": [
        "chisq.test(contingency)"
      ],
      "metadata": {
        "colab": {
          "base_uri": "https://localhost:8080/",
          "height": 142
        },
        "id": "nq-5fFu5Di1l",
        "outputId": "f0774986-d130-4287-daff-eb4b3f7075e8"
      },
      "execution_count": 13,
      "outputs": [
        {
          "output_type": "stream",
          "name": "stderr",
          "text": [
            "Warning message in chisq.test(contingency):\n",
            "“Chi-squared approximation may be incorrect”\n"
          ]
        },
        {
          "output_type": "display_data",
          "data": {
            "text/plain": [
              "\n",
              "\tPearson's Chi-squared test\n",
              "\n",
              "data:  contingency\n",
              "X-squared = 1917765, df = 4, p-value < 2.2e-16\n"
            ]
          },
          "metadata": {}
        }
      ]
    }
  ]
}